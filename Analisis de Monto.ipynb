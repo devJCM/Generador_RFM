{
 "cells": [
  {
   "cell_type": "markdown",
   "metadata": {},
   "source": [
    "# Analisis de Recencia"
   ]
  },
  {
   "cell_type": "code",
   "execution_count": 18,
   "metadata": {},
   "outputs": [],
   "source": [
    "import pandas as pd\n",
    "import numpy as np\n",
    "import matplotlib.pyplot as plt\n",
    "import pymysql\n",
    "\n",
    "from sklearn.cluster import KMeans"
   ]
  },
  {
   "cell_type": "markdown",
   "metadata": {},
   "source": [
    "## Data Wrangling"
   ]
  },
  {
   "cell_type": "code",
   "execution_count": 19,
   "metadata": {},
   "outputs": [
    {
     "name": "stdout",
     "output_type": "stream",
     "text": [
      "El numero de filas de este dataset es de:998\n"
     ]
    },
    {
     "data": {
      "text/html": [
       "<div>\n",
       "<style scoped>\n",
       "    .dataframe tbody tr th:only-of-type {\n",
       "        vertical-align: middle;\n",
       "    }\n",
       "\n",
       "    .dataframe tbody tr th {\n",
       "        vertical-align: top;\n",
       "    }\n",
       "\n",
       "    .dataframe thead th {\n",
       "        text-align: right;\n",
       "    }\n",
       "</style>\n",
       "<table border=\"1\" class=\"dataframe\">\n",
       "  <thead>\n",
       "    <tr style=\"text-align: right;\">\n",
       "      <th></th>\n",
       "      <th>Id</th>\n",
       "      <th>Date</th>\n",
       "      <th>Frecuency</th>\n",
       "      <th>Money</th>\n",
       "    </tr>\n",
       "  </thead>\n",
       "  <tbody>\n",
       "    <tr>\n",
       "      <th>0</th>\n",
       "      <td>1</td>\n",
       "      <td>20151216</td>\n",
       "      <td>10</td>\n",
       "      <td>1000.0</td>\n",
       "    </tr>\n",
       "    <tr>\n",
       "      <th>1</th>\n",
       "      <td>2</td>\n",
       "      <td>20151214</td>\n",
       "      <td>2</td>\n",
       "      <td>490.0</td>\n",
       "    </tr>\n",
       "    <tr>\n",
       "      <th>2</th>\n",
       "      <td>3</td>\n",
       "      <td>20151213</td>\n",
       "      <td>7</td>\n",
       "      <td>287.0</td>\n",
       "    </tr>\n",
       "    <tr>\n",
       "      <th>3</th>\n",
       "      <td>4</td>\n",
       "      <td>20151212</td>\n",
       "      <td>4</td>\n",
       "      <td>259.0</td>\n",
       "    </tr>\n",
       "    <tr>\n",
       "      <th>4</th>\n",
       "      <td>5</td>\n",
       "      <td>20151211</td>\n",
       "      <td>6</td>\n",
       "      <td>866.0</td>\n",
       "    </tr>\n",
       "  </tbody>\n",
       "</table>\n",
       "</div>"
      ],
      "text/plain": [
       "   Id      Date  Frecuency   Money\n",
       "0   1  20151216         10  1000.0\n",
       "1   2  20151214          2   490.0\n",
       "2   3  20151213          7   287.0\n",
       "3   4  20151212          4   259.0\n",
       "4   5  20151211          6   866.0"
      ]
     },
     "execution_count": 19,
     "metadata": {},
     "output_type": "execute_result"
    }
   ],
   "source": [
    "host='localhost'\n",
    "db='RFM_unifin'\n",
    "user_db='root'\n",
    "pass_db=''\n",
    "\n",
    "conn=pymysql.connect(host=host, user=user_db, passwd=pass_db, db=db)\n",
    "\n",
    "cur=conn.cursor()\n",
    "\n",
    "query=\"SELECT Cuenta,Last_date,Num_Tickets,Monto FROM Transacciones;\"\n",
    "\n",
    "cur.execute(query),\n",
    "\n",
    "res = cur.fetchall()\n",
    "\n",
    "cur.close()\n",
    "\n",
    "conn.close()\n",
    "\n",
    "headers=['Id','Date','Frecuency','Money']\n",
    "\n",
    "id_RFM=headers[0]\n",
    "target_R=headers[1]\n",
    "target_F=headers[2]\n",
    "target_M=headers[3]\n",
    "\n",
    "dataset_dummy={}\n",
    "filas=0\n",
    "\n",
    "for h in headers:\n",
    "    dataset_dummy[h]=[]\n",
    "    \n",
    "if(len(res)>0):\n",
    "    for r in res:\n",
    "        filas+=1\n",
    "        for i in range(len(headers)):\n",
    "            dataset_dummy[headers[i]].append(r[i])\n",
    "\n",
    "print('El numero de filas de este dataset es de:'+str(filas))\n",
    "\n",
    "dataset=pd.DataFrame(dataset_dummy)#convertir diccionario en dataset\n",
    "\n",
    "dataset[target_R]=dataset[target_R].astype(str).str.replace('-', '')\n",
    "dataset[target_R]=dataset[target_R].astype(str).astype(int)\n",
    "\n",
    "dataset.head()  "
   ]
  },
  {
   "cell_type": "markdown",
   "metadata": {},
   "source": [
    "**-------------------------------------------------------------------------------------------------------------**"
   ]
  },
  {
   "cell_type": "code",
   "execution_count": 20,
   "metadata": {},
   "outputs": [
    {
     "name": "stdout",
     "output_type": "stream",
     "text": [
      "(998, 4)\n",
      "Id             int64\n",
      "Date           int64\n",
      "Frecuency      int64\n",
      "Money        float64\n",
      "dtype: object\n"
     ]
    },
    {
     "data": {
      "text/html": [
       "<div>\n",
       "<style scoped>\n",
       "    .dataframe tbody tr th:only-of-type {\n",
       "        vertical-align: middle;\n",
       "    }\n",
       "\n",
       "    .dataframe tbody tr th {\n",
       "        vertical-align: top;\n",
       "    }\n",
       "\n",
       "    .dataframe thead th {\n",
       "        text-align: right;\n",
       "    }\n",
       "</style>\n",
       "<table border=\"1\" class=\"dataframe\">\n",
       "  <thead>\n",
       "    <tr style=\"text-align: right;\">\n",
       "      <th></th>\n",
       "      <th>Id</th>\n",
       "      <th>Date</th>\n",
       "      <th>Frecuency</th>\n",
       "      <th>Money</th>\n",
       "    </tr>\n",
       "  </thead>\n",
       "  <tbody>\n",
       "    <tr>\n",
       "      <th>0</th>\n",
       "      <td>990</td>\n",
       "      <td>20130331</td>\n",
       "      <td>3</td>\n",
       "      <td>1.0</td>\n",
       "    </tr>\n",
       "    <tr>\n",
       "      <th>1</th>\n",
       "      <td>785</td>\n",
       "      <td>20131022</td>\n",
       "      <td>10</td>\n",
       "      <td>1.0</td>\n",
       "    </tr>\n",
       "    <tr>\n",
       "      <th>2</th>\n",
       "      <td>343</td>\n",
       "      <td>20150107</td>\n",
       "      <td>2</td>\n",
       "      <td>4.0</td>\n",
       "    </tr>\n",
       "    <tr>\n",
       "      <th>3</th>\n",
       "      <td>10</td>\n",
       "      <td>20151206</td>\n",
       "      <td>5</td>\n",
       "      <td>4.0</td>\n",
       "    </tr>\n",
       "    <tr>\n",
       "      <th>4</th>\n",
       "      <td>625</td>\n",
       "      <td>20140331</td>\n",
       "      <td>7</td>\n",
       "      <td>4.0</td>\n",
       "    </tr>\n",
       "  </tbody>\n",
       "</table>\n",
       "</div>"
      ],
      "text/plain": [
       "    Id      Date  Frecuency  Money\n",
       "0  990  20130331          3    1.0\n",
       "1  785  20131022         10    1.0\n",
       "2  343  20150107          2    4.0\n",
       "3   10  20151206          5    4.0\n",
       "4  625  20140331          7    4.0"
      ]
     },
     "execution_count": 20,
     "metadata": {},
     "output_type": "execute_result"
    }
   ],
   "source": [
    "print(dataset.shape)\n",
    "print(dataset.dtypes)\n",
    "\n",
    "dataset=dataset.sort_values(by=target_M,ascending=True)\n",
    "dataset = dataset.reset_index(drop=True)\n",
    "\n",
    "dataset.head()"
   ]
  },
  {
   "cell_type": "code",
   "execution_count": 21,
   "metadata": {},
   "outputs": [],
   "source": [
    "#Normalizacion de Dataset\n",
    "#se mecesitan todas la variables numericas\n",
    "#dataset_norm=(dataset-dataset.min())/(dataset.max()-dataset.min())\n",
    "#dataset_norm.head()"
   ]
  },
  {
   "cell_type": "markdown",
   "metadata": {},
   "source": [
    "## Creacion y ajustes de Clusters"
   ]
  },
  {
   "cell_type": "code",
   "execution_count": 22,
   "metadata": {
    "scrolled": true
   },
   "outputs": [
    {
     "data": {
      "text/html": [
       "<div>\n",
       "<style scoped>\n",
       "    .dataframe tbody tr th:only-of-type {\n",
       "        vertical-align: middle;\n",
       "    }\n",
       "\n",
       "    .dataframe tbody tr th {\n",
       "        vertical-align: top;\n",
       "    }\n",
       "\n",
       "    .dataframe thead th {\n",
       "        text-align: right;\n",
       "    }\n",
       "</style>\n",
       "<table border=\"1\" class=\"dataframe\">\n",
       "  <thead>\n",
       "    <tr style=\"text-align: right;\">\n",
       "      <th></th>\n",
       "      <th>Id</th>\n",
       "      <th>Date</th>\n",
       "      <th>Frecuency</th>\n",
       "      <th>Money</th>\n",
       "      <th>p_m</th>\n",
       "    </tr>\n",
       "  </thead>\n",
       "  <tbody>\n",
       "    <tr>\n",
       "      <th>0</th>\n",
       "      <td>990</td>\n",
       "      <td>20130331</td>\n",
       "      <td>3</td>\n",
       "      <td>1.0</td>\n",
       "      <td>2</td>\n",
       "    </tr>\n",
       "    <tr>\n",
       "      <th>1</th>\n",
       "      <td>785</td>\n",
       "      <td>20131022</td>\n",
       "      <td>10</td>\n",
       "      <td>1.0</td>\n",
       "      <td>2</td>\n",
       "    </tr>\n",
       "    <tr>\n",
       "      <th>2</th>\n",
       "      <td>343</td>\n",
       "      <td>20150107</td>\n",
       "      <td>2</td>\n",
       "      <td>4.0</td>\n",
       "      <td>2</td>\n",
       "    </tr>\n",
       "    <tr>\n",
       "      <th>3</th>\n",
       "      <td>10</td>\n",
       "      <td>20151206</td>\n",
       "      <td>5</td>\n",
       "      <td>4.0</td>\n",
       "      <td>2</td>\n",
       "    </tr>\n",
       "    <tr>\n",
       "      <th>4</th>\n",
       "      <td>625</td>\n",
       "      <td>20140331</td>\n",
       "      <td>7</td>\n",
       "      <td>4.0</td>\n",
       "      <td>2</td>\n",
       "    </tr>\n",
       "  </tbody>\n",
       "</table>\n",
       "</div>"
      ],
      "text/plain": [
       "    Id      Date  Frecuency  Money  p_m\n",
       "0  990  20130331          3    1.0    2\n",
       "1  785  20131022         10    1.0    2\n",
       "2  343  20150107          2    4.0    2\n",
       "3   10  20151206          5    4.0    2\n",
       "4  625  20140331          7    4.0    2"
      ]
     },
     "execution_count": 22,
     "metadata": {},
     "output_type": "execute_result"
    }
   ],
   "source": [
    "model_m=KMeans(n_clusters=5).fit(dataset[[target_M]])\n",
    "clust_m=pd.Series(model_m.labels_)\n",
    "dataset['p_m']=clust_m\n",
    "\n",
    "dataset.head()"
   ]
  },
  {
   "cell_type": "code",
   "execution_count": 23,
   "metadata": {},
   "outputs": [
    {
     "name": "stdout",
     "output_type": "stream",
     "text": [
      "[183.0, 390.0, 587.0, 786.0, 1000.0]\n"
     ]
    }
   ],
   "source": [
    "lim_clusts=[]\n",
    "for i in range(0,5):\n",
    "    x=dataset[dataset['p_m']==i]\n",
    "    lim_clusts.append(x[target_M].max())\n",
    "lim_clusts.sort()   \n",
    "\n",
    "print(lim_clusts)"
   ]
  },
  {
   "cell_type": "code",
   "execution_count": 24,
   "metadata": {},
   "outputs": [
    {
     "name": "stdout",
     "output_type": "stream",
     "text": [
      "183.0\n",
      "390.0\n",
      "587.0\n",
      "786.0\n",
      "1000.0\n"
     ]
    }
   ],
   "source": [
    "lim1=lim_clusts[0]\n",
    "lim2=lim_clusts[1]\n",
    "lim3=lim_clusts[2]\n",
    "lim4=lim_clusts[3]\n",
    "lim5=lim_clusts[4]\n",
    "\n",
    "print(lim1)\n",
    "print(lim2)\n",
    "print(lim3)\n",
    "print(lim4)\n",
    "print(lim5)"
   ]
  },
  {
   "cell_type": "code",
   "execution_count": 25,
   "metadata": {
    "scrolled": true
   },
   "outputs": [
    {
     "data": {
      "text/html": [
       "<div>\n",
       "<style scoped>\n",
       "    .dataframe tbody tr th:only-of-type {\n",
       "        vertical-align: middle;\n",
       "    }\n",
       "\n",
       "    .dataframe tbody tr th {\n",
       "        vertical-align: top;\n",
       "    }\n",
       "\n",
       "    .dataframe thead th {\n",
       "        text-align: right;\n",
       "    }\n",
       "</style>\n",
       "<table border=\"1\" class=\"dataframe\">\n",
       "  <thead>\n",
       "    <tr style=\"text-align: right;\">\n",
       "      <th></th>\n",
       "      <th>Id</th>\n",
       "      <th>Date</th>\n",
       "      <th>Frecuency</th>\n",
       "      <th>Money</th>\n",
       "      <th>M</th>\n",
       "    </tr>\n",
       "  </thead>\n",
       "  <tbody>\n",
       "    <tr>\n",
       "      <th>0</th>\n",
       "      <td>990</td>\n",
       "      <td>20130331</td>\n",
       "      <td>3</td>\n",
       "      <td>1.0</td>\n",
       "      <td>1.0</td>\n",
       "    </tr>\n",
       "    <tr>\n",
       "      <th>1</th>\n",
       "      <td>785</td>\n",
       "      <td>20131022</td>\n",
       "      <td>10</td>\n",
       "      <td>1.0</td>\n",
       "      <td>1.0</td>\n",
       "    </tr>\n",
       "    <tr>\n",
       "      <th>2</th>\n",
       "      <td>343</td>\n",
       "      <td>20150107</td>\n",
       "      <td>2</td>\n",
       "      <td>4.0</td>\n",
       "      <td>1.0</td>\n",
       "    </tr>\n",
       "    <tr>\n",
       "      <th>3</th>\n",
       "      <td>10</td>\n",
       "      <td>20151206</td>\n",
       "      <td>5</td>\n",
       "      <td>4.0</td>\n",
       "      <td>1.0</td>\n",
       "    </tr>\n",
       "    <tr>\n",
       "      <th>4</th>\n",
       "      <td>625</td>\n",
       "      <td>20140331</td>\n",
       "      <td>7</td>\n",
       "      <td>4.0</td>\n",
       "      <td>1.0</td>\n",
       "    </tr>\n",
       "  </tbody>\n",
       "</table>\n",
       "</div>"
      ],
      "text/plain": [
       "    Id      Date  Frecuency  Money    M\n",
       "0  990  20130331          3    1.0  1.0\n",
       "1  785  20131022         10    1.0  1.0\n",
       "2  343  20150107          2    4.0  1.0\n",
       "3   10  20151206          5    4.0  1.0\n",
       "4  625  20140331          7    4.0  1.0"
      ]
     },
     "execution_count": 25,
     "metadata": {},
     "output_type": "execute_result"
    }
   ],
   "source": [
    "dataset.loc[(dataset[target_M] <= lim1), 'M'] = 1\n",
    "dataset.loc[(dataset[target_M] <= lim2) & (dataset[target_M] > lim1), 'M'] = 2\n",
    "dataset.loc[(dataset[target_M] <= lim3) & (dataset[target_M] > lim2), 'M'] = 3\n",
    "dataset.loc[(dataset[target_M] <= lim4) & (dataset[target_M] > lim3), 'M'] = 4\n",
    "dataset.loc[(dataset[target_M] <= lim5) & (dataset[target_M] > lim4), 'M'] = 5\n",
    "\n",
    "dataset=dataset.drop(['p_m'], axis=1)\n",
    "\n",
    "dataset.head()"
   ]
  },
  {
   "cell_type": "markdown",
   "metadata": {},
   "source": [
    "## Actualizacion de DB"
   ]
  },
  {
   "cell_type": "code",
   "execution_count": 26,
   "metadata": {},
   "outputs": [],
   "source": [
    "#conn=pymysql.connect(host=host, user=user_db, passwd=pass_db, db=db)\n",
    "\n",
    "#cur=conn.cursor()\n",
    "#for index,row in dataset.iterrows():\n",
    "#\tquery=\"Update Transacciones set R=\"+str(int(row['M']))+\" where Cuenta=\"+str(int(row[id_RFM]))+\";\"\n",
    "#\tcur.execute(query)\n",
    "\n",
    "#conn.commit()\n",
    "#cur.close()\n",
    "#conn.close()"
   ]
  },
  {
   "cell_type": "markdown",
   "metadata": {},
   "source": [
    "## Conclusion"
   ]
  },
  {
   "cell_type": "code",
   "execution_count": 27,
   "metadata": {},
   "outputs": [
    {
     "data": {
      "text/html": [
       "<div>\n",
       "<style scoped>\n",
       "    .dataframe tbody tr th:only-of-type {\n",
       "        vertical-align: middle;\n",
       "    }\n",
       "\n",
       "    .dataframe tbody tr th {\n",
       "        vertical-align: top;\n",
       "    }\n",
       "\n",
       "    .dataframe thead th {\n",
       "        text-align: right;\n",
       "    }\n",
       "</style>\n",
       "<table border=\"1\" class=\"dataframe\">\n",
       "  <thead>\n",
       "    <tr style=\"text-align: right;\">\n",
       "      <th></th>\n",
       "      <th>5.0</th>\n",
       "      <th>3.0</th>\n",
       "      <th>4.0</th>\n",
       "      <th>2.0</th>\n",
       "      <th>1.0</th>\n",
       "    </tr>\n",
       "  </thead>\n",
       "  <tbody>\n",
       "    <tr>\n",
       "      <th>0</th>\n",
       "      <td>213</td>\n",
       "      <td>203</td>\n",
       "      <td>199</td>\n",
       "      <td>199</td>\n",
       "      <td>184</td>\n",
       "    </tr>\n",
       "  </tbody>\n",
       "</table>\n",
       "</div>"
      ],
      "text/plain": [
       "   5.0  3.0  4.0  2.0  1.0\n",
       "0  213  203  199  199  184"
      ]
     },
     "execution_count": 27,
     "metadata": {},
     "output_type": "execute_result"
    }
   ],
   "source": [
    "d=dataset['M'].value_counts().to_dict()\n",
    "m_frame=pd.DataFrame([d], columns=d.keys())\n",
    "m_frame"
   ]
  },
  {
   "cell_type": "code",
   "execution_count": 28,
   "metadata": {},
   "outputs": [
    {
     "data": {
      "text/plain": [
       "[]"
      ]
     },
     "execution_count": 28,
     "metadata": {},
     "output_type": "execute_result"
    },
    {
     "data": {
      "image/png": "[encoded data removed]",
      "text/plain": [
       "<Figure size 432x288 with 1 Axes>"
      ]
     },
     "metadata": {
      "needs_background": "light"
     },
     "output_type": "display_data"
    }
   ],
   "source": [
    "ax=m_frame.plot(kind='bar')\n",
    "ax.set_title('Clusters de Montos')\n",
    "ax.set_xlabel('Puntaje de Montos')\n",
    "ax.set_ylabel('Frecuencia de Montos')\n",
    "ax.set_xticklabels('')"
   ]
  },
  {
   "cell_type": "code",
   "execution_count": 29,
   "metadata": {},
   "outputs": [
    {
     "data": {
      "text/plain": [
       "Text(0.5, 1.0, 'Distribuicion de Montos y Clusters')"
      ]
     },
     "execution_count": 29,
     "metadata": {},
     "output_type": "execute_result"
    },
    {
     "data": {
      "image/png": "[encoded data removed]",
      "text/plain": [
       "<Figure size 432x288 with 1 Axes>"
      ]
     },
     "metadata": {
      "needs_background": "light"
     },
     "output_type": "display_data"
    }
   ],
   "source": [
    "plt.scatter(x=dataset[id_RFM],y=dataset[target_M],c=clust_m)\n",
    "plt.title('Distribuicion de Montos y Clusters')"
   ]
  },
  {
   "cell_type": "code",
   "execution_count": 30,
   "metadata": {},
   "outputs": [
    {
     "name": "stdout",
     "output_type": "stream",
     "text": [
      "Para el Cluster con valor en R= 5.0\n",
      "Los Montos van de  787.0  a  1000.0\n",
      "\n",
      "Para el Cluster con valor en R= 3.0\n",
      "Los Montos van de  392.0  a  587.0\n",
      "\n",
      "Para el Cluster con valor en R= 4.0\n",
      "Los Montos van de  594.0  a  786.0\n",
      "\n",
      "Para el Cluster con valor en R= 2.0\n",
      "Los Montos van de  185.0  a  390.0\n",
      "\n",
      "Para el Cluster con valor en R= 1.0\n",
      "Los Montos van de  1.0  a  183.0\n",
      "\n"
     ]
    }
   ],
   "source": [
    "for i in m_frame.columns.values:\n",
    "    x=dataset[dataset['M']==i]\n",
    "    print('Para el Cluster con valor en R=',i)\n",
    "    print('Los Montos van de ',x[target_M].min(),' a ',x[target_M].max())\n",
    "    print('')"
   ]
  }
 ],
 "metadata": {
  "kernelspec": {
   "display_name": "Python 3",
   "language": "python",
   "name": "python3"
  },
  "language_info": {
   "codemirror_mode": {
    "name": "ipython",
    "version": 3
   },
   "file_extension": ".py",
   "mimetype": "text/x-python",
   "name": "python",
   "nbconvert_exporter": "python",
   "pygments_lexer": "ipython3",
   "version": "3.7.1"
  }
 },
 "nbformat": 4,
 "nbformat_minor": 2
}
