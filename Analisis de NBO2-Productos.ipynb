{
 "cells": [
  {
   "cell_type": "code",
   "execution_count": 7,
   "metadata": {},
   "outputs": [],
   "source": [
    "import pymysql\n",
    "import pandas as pd\n",
    "import numpy as np\n",
    "from sklearn.preprocessing import MinMaxScaler"
   ]
  },
  {
   "cell_type": "code",
   "execution_count": 8,
   "metadata": {},
   "outputs": [],
   "source": [
    "def create_dummies(dataset,columns):\n",
    "    \n",
    "    for column in columns:\n",
    "        dummy=pd.get_dummies(dataset[column],prefix=column)\n",
    "\n",
    "        dataset=dataset.drop(column,axis=1)#axis=1-->para eliminar columna y no fila\n",
    "\n",
    "        dataset=pd.concat([dataset,dummy],axis=1)#axis=1-->para agregar columna y no fila\n",
    "\n",
    "    return dataset"
   ]
  },
  {
   "cell_type": "code",
   "execution_count": 9,
   "metadata": {},
   "outputs": [],
   "source": [
    "def normalize_columns(dataset,columns):\n",
    "    scaler = MinMaxScaler()\n",
    "    scaled_X = scaler.fit_transform(dataset[columns])\n",
    "    X_normalized=pd.DataFrame(scaled_X,columns=columns)\n",
    "    dataset=dataset.drop(columns,axis=1)#axis=1-->para eliminar columna y no fila\n",
    "    new_dataset=pd.concat([dataset,X_normalized],axis=1)#axis=1-->para agregar columna y no fila\n",
    "    return new_dataset"
   ]
  },
  {
   "cell_type": "code",
   "execution_count": 10,
   "metadata": {},
   "outputs": [
    {
     "name": "stdout",
     "output_type": "stream",
     "text": [
      "El numero de filas de este dataset es de:30069\n",
      "(30069, 11)\n",
      "id               object\n",
      "Macro_sector     object\n",
      "Sector           object\n",
      "Subsector        object\n",
      "Actividad        object\n",
      "Ventas          float64\n",
      "Activo_fijo     float64\n",
      "Potencial       float64\n",
      "Cheques          object\n",
      "Etapa            object\n",
      "Producto         object\n",
      "dtype: object\n"
     ]
    }
   ],
   "source": [
    "try:\n",
    "    conn=pymysql.connect(host='localhost', user='root', passwd='', db='CustomerInfo')\n",
    "    cur=conn.cursor()\n",
    "    query=\"SELECT Id_cliente,Macro_sector,Sector,Subsector,Actividad,Ventas,Activo_fijo,Potencial,Cheques,Etapa,Producto from nbo_model;\"\n",
    "    cur.execute(query)\n",
    "    res = cur.fetchall()\n",
    "    cur.close()\n",
    "    conn.close()\n",
    "    \n",
    "except pymysql.Error as e:\n",
    "    msj= (\"Error %d: %s\" % (e.args[0], e.args[1]))\n",
    "    print(msj)\n",
    "else:\n",
    "    headers=['id','Macro_sector','Sector','Subsector','Actividad','Ventas','Activo_fijo','Potencial','Cheques','Etapa','Producto']\n",
    "    dataset_dummy={}\n",
    "    filas=0\n",
    "\n",
    "    for h in headers:\n",
    "        dataset_dummy[h]=[]\n",
    "\n",
    "    if(len(res)>0):\n",
    "        for r in res:\n",
    "            filas+=1\n",
    "            for i in range(len(headers)):\n",
    "                dataset_dummy[headers[i]].append(r[i])\n",
    "\n",
    "    print('El numero de filas de este dataset es de:'+str(filas))\n",
    "\n",
    "    df1=pd.DataFrame(dataset_dummy) \n",
    "    print(df1.shape)\n",
    "\n",
    "    print(df1.dtypes)"
   ]
  },
  {
   "cell_type": "markdown",
   "metadata": {},
   "source": [
    "## Analisis de datos"
   ]
  },
  {
   "cell_type": "code",
   "execution_count": 11,
   "metadata": {},
   "outputs": [],
   "source": [
    "#df2=create_dummies(df1,['Etapa'])"
   ]
  },
  {
   "cell_type": "code",
   "execution_count": 12,
   "metadata": {},
   "outputs": [
    {
     "data": {
      "text/plain": [
       "(30059, 11)"
      ]
     },
     "execution_count": 12,
     "metadata": {},
     "output_type": "execute_result"
    }
   ],
   "source": [
    "yfails=df1[(df1['Producto']=='function(){return th') | (df1['Producto']=='')].index.tolist()\n",
    "\n",
    "df1=df1.drop(yfails)\n",
    "df1=df1.reset_index(drop=True)\n",
    "\n",
    "df1.shape"
   ]
  },
  {
   "cell_type": "code",
   "execution_count": 13,
   "metadata": {},
   "outputs": [
    {
     "data": {
      "text/plain": [
       "(30059, 7)"
      ]
     },
     "execution_count": 13,
     "metadata": {},
     "output_type": "execute_result"
    }
   ],
   "source": [
    "Y=df1['Producto']\n",
    "X=df1[['Macro_sector','Sector','Subsector','Actividad','Ventas','Activo_fijo','Potencial']]\n",
    "X.shape"
   ]
  },
  {
   "cell_type": "code",
   "execution_count": 14,
   "metadata": {},
   "outputs": [
    {
     "data": {
      "text/plain": [
       "(29991, 7)"
      ]
     },
     "execution_count": 14,
     "metadata": {},
     "output_type": "execute_result"
    }
   ],
   "source": [
    "#X['Cheques']=X['Cheques'].fillna(0)\n",
    "indexes_empties=X[pd.isnull(X).any(axis=1)].index.tolist()\n",
    "\n",
    "X=X.dropna(axis=0,how=\"any\")\n",
    "X= X.reset_index(drop=True)\n",
    "\n",
    "Y=Y.drop(indexes_empties)\n",
    "Y= Y.reset_index(drop=True)\n",
    "\n",
    "X.shape"
   ]
  },
  {
   "cell_type": "code",
   "execution_count": 15,
   "metadata": {},
   "outputs": [
    {
     "data": {
      "text/plain": [
       "array(['2', '1', '3', '4', '5'], dtype=object)"
      ]
     },
     "execution_count": 15,
     "metadata": {},
     "output_type": "execute_result"
    }
   ],
   "source": [
    "Y.unique()"
   ]
  },
  {
   "cell_type": "code",
   "execution_count": 16,
   "metadata": {},
   "outputs": [
    {
     "data": {
      "text/plain": [
       "(29991, 7)"
      ]
     },
     "execution_count": 16,
     "metadata": {},
     "output_type": "execute_result"
    }
   ],
   "source": [
    "X_normalized=normalize_columns(X,['Ventas','Activo_fijo','Potencial'])\n",
    "X_normalized.shape"
   ]
  },
  {
   "cell_type": "code",
   "execution_count": 17,
   "metadata": {},
   "outputs": [
    {
     "data": {
      "text/plain": [
       "(29991, 1020)"
      ]
     },
     "execution_count": 17,
     "metadata": {},
     "output_type": "execute_result"
    }
   ],
   "source": [
    "X_normalized=create_dummies(X_normalized,['Macro_sector','Sector','Subsector','Actividad'])\n",
    "X_normalized.shape"
   ]
  },
  {
   "cell_type": "code",
   "execution_count": 18,
   "metadata": {},
   "outputs": [
    {
     "data": {
      "text/plain": [
       "(29991, 186)"
      ]
     },
     "execution_count": 18,
     "metadata": {},
     "output_type": "execute_result"
    }
   ],
   "source": [
    "X_normalized=X_normalized[['Activo_fijo', 'Macro_sector_', 'Macro_sector_1', 'Macro_sector_2', 'Macro_sector_3', 'Macro_sector_4', 'Macro_sector_5', 'Sector_', 'Sector_1300003', 'Sector_3400009', 'Sector_4100004', 'Sector_6700000', 'Sector_6800002', 'Sector_6900006', 'Sector_7300007', 'Sector_9999999', 'Subsector_', 'Subsector_00000000', 'Subsector_00010000', 'Subsector_0200006-2', 'Subsector_1400001-1', 'Subsector_2300002-1', 'Subsector_2900000-2', 'Subsector_3000007-2', 'Subsector_3400009-2', 'Subsector_3500007-2', 'Subsector_3900009-11', 'Subsector_3900009-6', 'Subsector_6200000-3', 'Subsector_6600002-2', 'Subsector_6600002-5', 'Subsector_6600002-6', 'Subsector_6600002-7', 'Subsector_6800001-1', 'Subsector_6900006-1', 'Subsector_7100001-3', 'Subsector_8100000-3', 'Subsector_8100000-5', 'Subsector_8200008-1', 'Subsector_8200008-4', 'Subsector_8300006-1', 'Subsector_8400004-1', 'Subsector_8400004-2', 'Subsector_8400004-3', 'Subsector_8900004-2', 'Subsector_8900004-5', 'Subsector_9400003-1', 'Subsector_9999999-1', 'Actividad_', 'Actividad_0111063', 'Actividad_0112095', 'Actividad_0112128', 'Actividad_0232017', 'Actividad_0291013', 'Actividad_0312017', 'Actividad_1321017', 'Actividad_1411016', 'Actividad_2012037', 'Actividad_2025014', 'Actividad_2028026', 'Actividad_2049030', 'Actividad_2059013', 'Actividad_2061026', 'Actividad_2094019', 'Actividad_2096015', 'Actividad_2312031', 'Actividad_2321016', 'Actividad_2329010', 'Actividad_2394021', 'Actividad_2411015', 'Actividad_2413011', 'Actividad_2429018', 'Actividad_2431013', 'Actividad_2512011', 'Actividad_2529107', 'Actividad_2632017', 'Actividad_2912005', 'Actividad_3032018', 'Actividad_3092046', 'Actividad_3097054', 'Actividad_3112018', 'Actividad_3113016', 'Actividad_3122017', 'Actividad_3229045', 'Actividad_3323029', 'Actividad_3411022', 'Actividad_3421013', 'Actividad_3516038', 'Actividad_3532026', 'Actividad_3591022', 'Actividad_3596014', 'Actividad_3599018', 'Actividad_3694024', 'Actividad_3697010', 'Actividad_3723013', 'Actividad_3799014', 'Actividad_3812014', 'Actividad_3961027', 'Actividad_3999119', 'Actividad_4111027', 'Actividad_4111910', 'Actividad_4112017', 'Actividad_4121018', 'Actividad_4121026', 'Actividad_4121034', 'Actividad_4123014', 'Actividad_4129012', 'Actividad_4193017', 'Actividad_4222014', 'Actividad_4291019', 'Actividad_6135017', 'Actividad_6225024', 'Actividad_6311039', 'Actividad_6321012', 'Actividad_6329016', 'Actividad_6512017', 'Actividad_6514013', 'Actividad_6623020', 'Actividad_6625018', 'Actividad_6695011', 'Actividad_6699021', 'Actividad_6699039', 'Actividad_6711015', 'Actividad_6712013', 'Actividad_6714019', 'Actividad_6714027', 'Actividad_6732029', 'Actividad_6800002', 'Actividad_6811013', 'Actividad_6813027', 'Actividad_6814017', 'Actividad_6816013', 'Actividad_6993019', 'Actividad_6999041', 'Actividad_6999075', 'Actividad_6999108', 'Actividad_7111016', 'Actividad_7112014', 'Actividad_7114010', 'Actividad_7129019', 'Actividad_7212012', 'Actividad_7291016', 'Actividad_7299010', 'Actividad_7511018', 'Actividad_7512016', 'Actividad_7519020', 'Actividad_7611016', 'Actividad_7613004', 'Actividad_7613012', 'Actividad_7613905', 'Actividad_7614010', 'Actividad_8123010', 'Actividad_8123078', 'Actividad_8123094', 'Actividad_8211013', 'Actividad_8219017', 'Actividad_8219122', 'Actividad_8311011', 'Actividad_8312019', 'Actividad_8400002', 'Actividad_8412017', 'Actividad_8415011', 'Actividad_8419013', 'Actividad_8421018', 'Actividad_8424012', 'Actividad_8429038', 'Actividad_8511017', 'Actividad_8519011', 'Actividad_8522014', 'Actividad_8814015', 'Actividad_8824014', 'Actividad_8825012', 'Actividad_8839906', 'Actividad_8915011', 'Actividad_8934029', 'Actividad_8944028', 'Actividad_8944098', 'Actividad_8991011', 'Actividad_9119018', 'Actividad_9319014', 'Actividad_9321019', 'Actividad_9411018', 'Actividad_9471012', 'Actividad_9800100', 'Actividad_9900003', 'Actividad_9999999']]\n",
    "X_normalized.shape"
   ]
  },
  {
   "cell_type": "code",
   "execution_count": 19,
   "metadata": {},
   "outputs": [],
   "source": [
    "from sklearn.model_selection import train_test_split"
   ]
  },
  {
   "cell_type": "code",
   "execution_count": 20,
   "metadata": {},
   "outputs": [],
   "source": [
    "X_train,X_test,Y_train,Y_test=train_test_split(X_normalized,Y,test_size=.2)"
   ]
  },
  {
   "cell_type": "markdown",
   "metadata": {},
   "source": [
    "## Regresion Logistica"
   ]
  },
  {
   "cell_type": "code",
   "execution_count": 15,
   "metadata": {},
   "outputs": [],
   "source": [
    "from sklearn.linear_model import LogisticRegression\n",
    "\n",
    "lr=LogisticRegression()\n",
    "\n",
    "lr.fit(X_train,Y_train)\n",
    "\n",
    "scorel=lr.score(X_test,Y_test)\n",
    "\n",
    "predictl=lr.predict(X_test)"
   ]
  },
  {
   "cell_type": "markdown",
   "metadata": {},
   "source": [
    "## Forest"
   ]
  },
  {
   "cell_type": "code",
   "execution_count": 16,
   "metadata": {},
   "outputs": [
    {
     "name": "stderr",
     "output_type": "stream",
     "text": [
      "/home/jess/anaconda3/lib/python3.7/site-packages/sklearn/ensemble/weight_boosting.py:29: DeprecationWarning: numpy.core.umath_tests is an internal NumPy module and should not be imported. It will be removed in a future NumPy release.\n",
      "  from numpy.core.umath_tests import inner1d\n"
     ]
    },
    {
     "name": "stdout",
     "output_type": "stream",
     "text": [
      "CPU times: user 20 s, sys: 145 ms, total: 20.1 s\n",
      "Wall time: 10.7 s\n"
     ]
    }
   ],
   "source": [
    "%%time\n",
    "\n",
    "from sklearn.ensemble import RandomForestClassifier\n",
    "\n",
    "forest=RandomForestClassifier(n_jobs=2,n_estimators=400)\n",
    "\n",
    "forest.fit(X_train,Y_train)\n",
    "\n",
    "scoref=forest.score(X_test,Y_test)\n",
    "\n",
    "predictf=forest.predict(X_test)"
   ]
  },
  {
   "cell_type": "markdown",
   "metadata": {},
   "source": [
    "## SVM"
   ]
  },
  {
   "cell_type": "markdown",
   "metadata": {},
   "source": [
    "%%time\n",
    "\n",
    "from sklearn.svm import SVC\n",
    "\n",
    "C=1e3\n",
    "svc_rbf = SVC(kernel=\"rbf\", C=C, gamma=0.1) #kernel radial\n",
    "\n",
    "model= svc_rbf.fit(X_train,Y_train)\n",
    "\n",
    "scores=model.score(X_test,Y_test)\n",
    "\n",
    "predicts=model.predict(X_test)"
   ]
  },
  {
   "cell_type": "markdown",
   "metadata": {},
   "source": [
    "## KNN"
   ]
  },
  {
   "cell_type": "markdown",
   "metadata": {},
   "source": [
    "%%time\n",
    "\n",
    "from sklearn.neighbors import KNeighborsClassifier\n",
    "\n",
    "knn = KNeighborsClassifier()\n",
    "\n",
    "knn.fit(X_train, Y_train)\n",
    "\n",
    "scorek=knn.score(X_test,Y_test)\n",
    "\n",
    "predictknn=knn.predict(X_test)\n",
    "\n",
    "#predictknn2=knn.predict_proba(X_test)"
   ]
  },
  {
   "cell_type": "markdown",
   "metadata": {},
   "source": [
    "## Conclusion"
   ]
  },
  {
   "cell_type": "code",
   "execution_count": 18,
   "metadata": {
    "scrolled": false
   },
   "outputs": [
    {
     "name": "stdout",
     "output_type": "stream",
     "text": [
      ">> LR.... <<\n",
      "Score 0.727621270211702\n",
      "4365 Registros acertados de 5999\n",
      "\n",
      "..................\n",
      "\n",
      ">> Forest.... <<\n",
      "Score 0.7311218536422737\n",
      "4386 Registros acertados de 5999\n",
      "\n",
      "..................\n",
      "\n"
     ]
    }
   ],
   "source": [
    "contone=0\n",
    "contzero=0\n",
    "total=len(Y_test)\n",
    "\n",
    "for i in Y_test:\n",
    "    if(i==1):\n",
    "        contone=contone+1\n",
    "    else:\n",
    "        contzero=contzero+1        \n",
    "#----------------------------\n",
    "\n",
    "print('>> LR.... <<')\n",
    "print('Score',scorel)\n",
    "\n",
    "c=0\n",
    "cont=0\n",
    "cont2=0\n",
    "for a, b in zip(predictl, Y_test):\n",
    "    if (a == b):\n",
    "        c=c+1\n",
    "        if(a==1):\n",
    "            cont=cont+1\n",
    "        else:\n",
    "            cont2=cont2+1\n",
    "print(c,'Registros acertados de',total )\n",
    "print()\n",
    "#print(pd.crosstab(Y_test,predictl,rownames=['Valor Real'],colnames=['Valor Predicho']))\n",
    "print('..................')\n",
    "print()\n",
    "\n",
    "print('>> Forest.... <<')\n",
    "print('Score',scoref)\n",
    "\n",
    "c=0\n",
    "cont=0\n",
    "cont2=0\n",
    "for a, b in zip(predictf, Y_test):\n",
    "    if (a == b):\n",
    "        c=c+1\n",
    "        if(a==1):\n",
    "            cont=cont+1\n",
    "        else:\n",
    "            cont2=cont2+1\n",
    "print(c,'Registros acertados de',total )\n",
    "print()\n",
    "#print(pd.crosstab(Y_test,predictf,rownames=['Valor Real'],colnames=['Valor Predicho']))\n",
    "print('..................')\n",
    "print()"
   ]
  },
  {
   "cell_type": "code",
   "execution_count": 44,
   "metadata": {},
   "outputs": [],
   "source": [
    "w=forest.predict(X_train)\n",
    "ww=forest.predict_proba(X_train)"
   ]
  },
  {
   "cell_type": "markdown",
   "metadata": {},
   "source": [
    "## Obtener mejores variables"
   ]
  },
  {
   "cell_type": "code",
   "execution_count": 18,
   "metadata": {
    "scrolled": true
   },
   "outputs": [
    {
     "name": "stdout",
     "output_type": "stream",
     "text": [
      "CPU times: user 1h 18min 30s, sys: 5min 57s, total: 1h 24min 28s\n",
      "Wall time: 1h 13min 56s\n"
     ]
    }
   ],
   "source": [
    "%%time\n",
    "\n",
    "from sklearn.feature_selection import RFECV\n",
    "from sklearn.linear_model import LogisticRegression\n",
    " \n",
    "rfe=RFECV(lr)\n",
    "rfe.fit(X_normalized,Y.values.ravel())"
   ]
  },
  {
   "cell_type": "code",
   "execution_count": 19,
   "metadata": {},
   "outputs": [
    {
     "name": "stdout",
     "output_type": "stream",
     "text": [
      "['Activo_fijo', 'Macro_sector_', 'Macro_sector_1', 'Macro_sector_2', 'Macro_sector_3', 'Macro_sector_4', 'Macro_sector_5', 'Sector_', 'Sector_1300003', 'Sector_3400009', 'Sector_4100004', 'Sector_6700000', 'Sector_6800002', 'Sector_6900006', 'Sector_7300007', 'Sector_9999999', 'Subsector_', 'Subsector_00000000', 'Subsector_00010000', 'Subsector_0200006-2', 'Subsector_1400001-1', 'Subsector_2300002-1', 'Subsector_2900000-2', 'Subsector_3000007-2', 'Subsector_3400009-2', 'Subsector_3500007-2', 'Subsector_3900009-11', 'Subsector_3900009-6', 'Subsector_6200000-3', 'Subsector_6600002-2', 'Subsector_6600002-5', 'Subsector_6600002-6', 'Subsector_6600002-7', 'Subsector_6800001-1', 'Subsector_6900006-1', 'Subsector_7100001-3', 'Subsector_8100000-3', 'Subsector_8100000-5', 'Subsector_8200008-1', 'Subsector_8200008-4', 'Subsector_8300006-1', 'Subsector_8400004-1', 'Subsector_8400004-2', 'Subsector_8400004-3', 'Subsector_8900004-2', 'Subsector_8900004-5', 'Subsector_9400003-1', 'Subsector_9999999-1', 'Actividad_', 'Actividad_0111063', 'Actividad_0112095', 'Actividad_0112128', 'Actividad_0232017', 'Actividad_0291013', 'Actividad_0312017', 'Actividad_1321017', 'Actividad_1411016', 'Actividad_2012037', 'Actividad_2025014', 'Actividad_2028026', 'Actividad_2049030', 'Actividad_2059013', 'Actividad_2061026', 'Actividad_2094019', 'Actividad_2096015', 'Actividad_2312031', 'Actividad_2321016', 'Actividad_2329010', 'Actividad_2394021', 'Actividad_2411015', 'Actividad_2413011', 'Actividad_2429018', 'Actividad_2431013', 'Actividad_2512011', 'Actividad_2529107', 'Actividad_2632017', 'Actividad_2912005', 'Actividad_3032018', 'Actividad_3092046', 'Actividad_3097054', 'Actividad_3112018', 'Actividad_3113016', 'Actividad_3122017', 'Actividad_3229045', 'Actividad_3323029', 'Actividad_3411022', 'Actividad_3421013', 'Actividad_3516038', 'Actividad_3532026', 'Actividad_3591022', 'Actividad_3596014', 'Actividad_3599018', 'Actividad_3694024', 'Actividad_3697010', 'Actividad_3723013', 'Actividad_3799014', 'Actividad_3812014', 'Actividad_3961027', 'Actividad_3999119', 'Actividad_4111027', 'Actividad_4111910', 'Actividad_4112017', 'Actividad_4121018', 'Actividad_4121026', 'Actividad_4121034', 'Actividad_4123014', 'Actividad_4129012', 'Actividad_4193017', 'Actividad_4222014', 'Actividad_4291019', 'Actividad_6135017', 'Actividad_6225024', 'Actividad_6311039', 'Actividad_6321012', 'Actividad_6329016', 'Actividad_6512017', 'Actividad_6514013', 'Actividad_6623020', 'Actividad_6625018', 'Actividad_6695011', 'Actividad_6699021', 'Actividad_6699039', 'Actividad_6711015', 'Actividad_6712013', 'Actividad_6714019', 'Actividad_6714027', 'Actividad_6732029', 'Actividad_6800002', 'Actividad_6811013', 'Actividad_6813027', 'Actividad_6814017', 'Actividad_6816013', 'Actividad_6993019', 'Actividad_6999041', 'Actividad_6999075', 'Actividad_6999108', 'Actividad_7111016', 'Actividad_7112014', 'Actividad_7114010', 'Actividad_7129019', 'Actividad_7212012', 'Actividad_7291016', 'Actividad_7299010', 'Actividad_7511018', 'Actividad_7512016', 'Actividad_7519020', 'Actividad_7611016', 'Actividad_7613004', 'Actividad_7613012', 'Actividad_7613905', 'Actividad_7614010', 'Actividad_8123010', 'Actividad_8123078', 'Actividad_8123094', 'Actividad_8211013', 'Actividad_8219017', 'Actividad_8219122', 'Actividad_8311011', 'Actividad_8312019', 'Actividad_8400002', 'Actividad_8412017', 'Actividad_8415011', 'Actividad_8419013', 'Actividad_8421018', 'Actividad_8424012', 'Actividad_8429038', 'Actividad_8511017', 'Actividad_8519011', 'Actividad_8522014', 'Actividad_8814015', 'Actividad_8824014', 'Actividad_8825012', 'Actividad_8839906', 'Actividad_8915011', 'Actividad_8934029', 'Actividad_8944028', 'Actividad_8944098', 'Actividad_8991011', 'Actividad_9119018', 'Actividad_9319014', 'Actividad_9321019', 'Actividad_9411018', 'Actividad_9471012', 'Actividad_9800100', 'Actividad_9900003', 'Actividad_9999999']\n"
     ]
    }
   ],
   "source": [
    "best_variables=[]\n",
    "\n",
    "for a, b in zip(X_normalized.columns.values.tolist(), rfe.support_):\n",
    "    if (b==True):\n",
    "        best_variables.append(a)\n",
    "        \n",
    "print(best_variables)        "
   ]
  },
  {
   "cell_type": "code",
   "execution_count": 20,
   "metadata": {},
   "outputs": [
    {
     "data": {
      "text/plain": [
       "186"
      ]
     },
     "execution_count": 20,
     "metadata": {},
     "output_type": "execute_result"
    }
   ],
   "source": [
    "rfe.n_features_"
   ]
  },
  {
   "cell_type": "markdown",
   "metadata": {},
   "source": [
    "## Guardar Modelo"
   ]
  },
  {
   "cell_type": "code",
   "execution_count": null,
   "metadata": {},
   "outputs": [],
   "source": [
    "import pickle\n",
    "\n",
    "filename = 'productos3.sav'\n",
    "pickle.dump(forest, open(filename, 'wb'))"
   ]
  },
  {
   "cell_type": "markdown",
   "metadata": {},
   "source": [
    "## Cargar Modelo"
   ]
  },
  {
   "cell_type": "code",
   "execution_count": 21,
   "metadata": {},
   "outputs": [
    {
     "name": "stderr",
     "output_type": "stream",
     "text": [
      "/home/jess/anaconda3/lib/python3.7/site-packages/sklearn/ensemble/weight_boosting.py:29: DeprecationWarning: numpy.core.umath_tests is an internal NumPy module and should not be imported. It will be removed in a future NumPy release.\n",
      "  from numpy.core.umath_tests import inner1d\n"
     ]
    }
   ],
   "source": [
    "import pickle\n",
    "\n",
    "#filename = 'productos1_lr_avar.sav'\n",
    "filename = 'productos2_forest_bvar.sav'\n",
    "\n",
    "model = pickle.load(open(filename, 'rb'))\n",
    "\n",
    "scorel=model.score(X_test,Y_test)\n",
    "\n",
    "predictl=model.predict(X_test)\n"
   ]
  },
  {
   "cell_type": "code",
   "execution_count": 28,
   "metadata": {},
   "outputs": [
    {
     "data": {
      "text/plain": [
       "array([[0.29156183, 0.01387817, 0.64062437, 0.05393563, 0.        ],\n",
       "       [0.35027778, 0.        , 0.        , 0.64972222, 0.        ],\n",
       "       [0.0757669 , 0.00984447, 0.90998495, 0.00440368, 0.        ],\n",
       "       ...,\n",
       "       [0.4236098 , 0.09550222, 0.44917634, 0.03171165, 0.        ],\n",
       "       [1.        , 0.        , 0.        , 0.        , 0.        ],\n",
       "       [0.06709659, 0.00267135, 0.92743523, 0.00279683, 0.        ]])"
      ]
     },
     "execution_count": 28,
     "metadata": {},
     "output_type": "execute_result"
    }
   ],
   "source": [
    "probabilidades=model.predict_proba(X_test)\n",
    "probabilidades"
   ]
  },
  {
   "cell_type": "code",
   "execution_count": 149,
   "metadata": {},
   "outputs": [],
   "source": [
    "conn=pymysql.connect(host='localhost', user='root', passwd='', db='CustomerInfo')\n",
    "cur=conn.cursor()\n",
    "query_fix=\"SET sql_mode=(SELECT REPLACE(@@sql_mode,'ONLY_FULL_GROUP_BY',''));\"\n",
    "cur.execute(query_fix)\n",
    "query=\"SELECT MAX(Ejecucion),Id_producto,Descripcion from items group by Id_producto;\"\n",
    "cur.execute(query)\n",
    "res = cur.fetchall()\n",
    "res\n",
    "headers={}\n",
    "for r in res:\n",
    "    headers[r[1]]=r[2]"
   ]
  },
  {
   "cell_type": "code",
   "execution_count": 120,
   "metadata": {},
   "outputs": [
    {
     "data": {
      "text/html": [
       "<div>\n",
       "<style scoped>\n",
       "    .dataframe tbody tr th:only-of-type {\n",
       "        vertical-align: middle;\n",
       "    }\n",
       "\n",
       "    .dataframe tbody tr th {\n",
       "        vertical-align: top;\n",
       "    }\n",
       "\n",
       "    .dataframe thead th {\n",
       "        text-align: right;\n",
       "    }\n",
       "</style>\n",
       "<table border=\"1\" class=\"dataframe\">\n",
       "  <thead>\n",
       "    <tr style=\"text-align: right;\">\n",
       "      <th></th>\n",
       "      <th>1</th>\n",
       "      <th>2</th>\n",
       "      <th>3</th>\n",
       "      <th>4</th>\n",
       "      <th>5</th>\n",
       "    </tr>\n",
       "  </thead>\n",
       "  <tbody>\n",
       "    <tr>\n",
       "      <th>0</th>\n",
       "      <td>0.291562</td>\n",
       "      <td>0.013878</td>\n",
       "      <td>0.640624</td>\n",
       "      <td>0.053936</td>\n",
       "      <td>0.0</td>\n",
       "    </tr>\n",
       "    <tr>\n",
       "      <th>1</th>\n",
       "      <td>0.350278</td>\n",
       "      <td>0.000000</td>\n",
       "      <td>0.000000</td>\n",
       "      <td>0.649722</td>\n",
       "      <td>0.0</td>\n",
       "    </tr>\n",
       "    <tr>\n",
       "      <th>2</th>\n",
       "      <td>0.075767</td>\n",
       "      <td>0.009844</td>\n",
       "      <td>0.909985</td>\n",
       "      <td>0.004404</td>\n",
       "      <td>0.0</td>\n",
       "    </tr>\n",
       "    <tr>\n",
       "      <th>3</th>\n",
       "      <td>0.423610</td>\n",
       "      <td>0.095502</td>\n",
       "      <td>0.449176</td>\n",
       "      <td>0.031712</td>\n",
       "      <td>0.0</td>\n",
       "    </tr>\n",
       "    <tr>\n",
       "      <th>4</th>\n",
       "      <td>0.869932</td>\n",
       "      <td>0.000000</td>\n",
       "      <td>0.019719</td>\n",
       "      <td>0.110350</td>\n",
       "      <td>0.0</td>\n",
       "    </tr>\n",
       "  </tbody>\n",
       "</table>\n",
       "</div>"
      ],
      "text/plain": [
       "          1         2         3         4    5\n",
       "0  0.291562  0.013878  0.640624  0.053936  0.0\n",
       "1  0.350278  0.000000  0.000000  0.649722  0.0\n",
       "2  0.075767  0.009844  0.909985  0.004404  0.0\n",
       "3  0.423610  0.095502  0.449176  0.031712  0.0\n",
       "4  0.869932  0.000000  0.019719  0.110350  0.0"
      ]
     },
     "execution_count": 120,
     "metadata": {},
     "output_type": "execute_result"
    }
   ],
   "source": [
    "dfx=pd.DataFrame(probabilidades,columns=list(headers.keys()))\n",
    "dfx.head()"
   ]
  },
  {
   "cell_type": "code",
   "execution_count": 145,
   "metadata": {},
   "outputs": [
    {
     "data": {
      "text/plain": [
       "[{'id': 'e45d4e71-22c6-421d-85ec-77ecaead04e9',\n",
       "  '1': 0.2915618283210253,\n",
       "  '2': 0.013878168049112896,\n",
       "  '3': 0.6406243744400245,\n",
       "  '4': 0.053935629189837166,\n",
       "  '5': 0.0},\n",
       " {'id': '4a61759e-c6d4-4e99-ba1c-896d96f618cb',\n",
       "  '1': 0.3502777777777778,\n",
       "  '2': 0.0,\n",
       "  '3': 0.0,\n",
       "  '4': 0.6497222222222222,\n",
       "  '5': 0.0},\n",
       " {'id': '1c023c92-3da0-4e50-b73e-6efb53a59077',\n",
       "  '1': 0.07576690163151803,\n",
       "  '2': 0.00984446583162359,\n",
       "  '3': 0.9099849512807664,\n",
       "  '4': 0.004403681256091936,\n",
       "  '5': 0.0}]"
      ]
     },
     "execution_count": 145,
     "metadata": {},
     "output_type": "execute_result"
    }
   ],
   "source": [
    "df2=pd.concat([df1['id'],dfx],axis=1)\n",
    "df2.head()\n",
    "dic=df2.to_dict(orient=\"records\")\n",
    "dic[:3]"
   ]
  },
  {
   "cell_type": "code",
   "execution_count": 146,
   "metadata": {},
   "outputs": [
    {
     "data": {
      "text/plain": [
       "[{'id': 'e45d4e71-22c6-421d-85ec-77ecaead04e9',\n",
       "  '3': 0.6406243744400245,\n",
       "  '1': 0.2915618283210253,\n",
       "  '4': 0.053935629189837166,\n",
       "  '2': 0.013878168049112896,\n",
       "  '5': 0.0},\n",
       " {'id': '4a61759e-c6d4-4e99-ba1c-896d96f618cb',\n",
       "  '4': 0.6497222222222222,\n",
       "  '1': 0.3502777777777778,\n",
       "  '5': 0.0,\n",
       "  '3': 0.0,\n",
       "  '2': 0.0},\n",
       " {'id': '1c023c92-3da0-4e50-b73e-6efb53a59077',\n",
       "  '3': 0.9099849512807664,\n",
       "  '1': 0.07576690163151803,\n",
       "  '2': 0.00984446583162359,\n",
       "  '4': 0.004403681256091936,\n",
       "  '5': 0.0}]"
      ]
     },
     "execution_count": 146,
     "metadata": {},
     "output_type": "execute_result"
    }
   ],
   "source": [
    "num_productos=5\n",
    "dic2=[]\n",
    "for d in dic:\n",
    "    temp_id=d['id']\n",
    "    del d['id']\n",
    "    sorted_x = sorted(d.items(), key=lambda kv: kv[1])\n",
    "    sorted_x= sorted_x[::-1]\n",
    "    probas=sorted_x[:num_productos]\n",
    "    #print(probas)\n",
    "    d={}\n",
    "    d['id']=temp_id\n",
    "    for p in probas:\n",
    "        d[p[0]]=p[1]\n",
    "    dic2.append(d)\n",
    "dic2[:3]"
   ]
  },
  {
   "cell_type": "code",
   "execution_count": 148,
   "metadata": {},
   "outputs": [
    {
     "data": {
      "text/plain": [
       "[('e45d4e71-22c6-421d-85ec-77ecaead04e9', '3', 0.6406243744400245),\n",
       " ('e45d4e71-22c6-421d-85ec-77ecaead04e9', '1', 0.2915618283210253),\n",
       " ('e45d4e71-22c6-421d-85ec-77ecaead04e9', '4', 0.053935629189837166),\n",
       " ('e45d4e71-22c6-421d-85ec-77ecaead04e9', '2', 0.013878168049112896),\n",
       " ('e45d4e71-22c6-421d-85ec-77ecaead04e9', '5', 0.0)]"
      ]
     },
     "execution_count": 148,
     "metadata": {},
     "output_type": "execute_result"
    }
   ],
   "source": [
    "val=[]\n",
    "for d in dic2:\n",
    "    list_idproductos=list(d.keys())\n",
    "    for i in range(1,num_productos+1):\n",
    "        val.append( (d['id'],list_idproductos[i],d[list_idproductos[i]]) ) \n",
    "val[:5]"
   ]
  },
  {
   "cell_type": "code",
   "execution_count": 153,
   "metadata": {},
   "outputs": [
    {
     "name": "stdout",
     "output_type": "stream",
     "text": [
      ">> Forest.... <<\n",
      "Score 0.7267877979663278\n",
      "4360 Registros acertados de 5999\n",
      "..................\n"
     ]
    }
   ],
   "source": [
    "contone=0\n",
    "contzero=0\n",
    "total=len(Y_test)\n",
    "\n",
    "for i in Y_test:\n",
    "    if(i==1):\n",
    "        contone=contone+1\n",
    "    else:\n",
    "        contzero=contzero+1        \n",
    "#----------------------------\n",
    "\n",
    "print('>> Forest.... <<')\n",
    "print('Score',scorel)\n",
    "\n",
    "c=0\n",
    "cont=0\n",
    "cont2=0\n",
    "for a, b in zip(predictl, Y_test):\n",
    "    if (a == b):\n",
    "        c=c+1\n",
    "        if(a==1):\n",
    "            cont=cont+1\n",
    "        else:\n",
    "            cont2=cont2+1\n",
    "print(c,'Registros acertados de',total )\n",
    "print('..................')\n",
    "\n",
    "#pd.crosstab(Y_test,predictl,rownames=['Valor Real'],colnames=['Valor Predicho'])\n"
   ]
  }
 ],
 "metadata": {
  "kernelspec": {
   "display_name": "Python 3",
   "language": "python",
   "name": "python3"
  },
  "language_info": {
   "codemirror_mode": {
    "name": "ipython",
    "version": 3
   },
   "file_extension": ".py",
   "mimetype": "text/x-python",
   "name": "python",
   "nbconvert_exporter": "python",
   "pygments_lexer": "ipython3",
   "version": "3.7.2"
  }
 },
 "nbformat": 4,
 "nbformat_minor": 2
}
