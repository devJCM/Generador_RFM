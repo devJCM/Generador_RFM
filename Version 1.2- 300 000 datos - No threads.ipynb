{
 "cells": [
  {
   "cell_type": "markdown",
   "metadata": {},
   "source": [
    "# Prueba con 300 000 datos sin Threads"
   ]
  },
  {
   "cell_type": "code",
   "execution_count": 1,
   "metadata": {},
   "outputs": [],
   "source": [
    "import time\n",
    "from generadorRFM import setRFM"
   ]
  },
  {
   "cell_type": "code",
   "execution_count": 2,
   "metadata": {
    "scrolled": true
   },
   "outputs": [
    {
     "name": "stdout",
     "output_type": "stream",
     "text": [
      "El numero de filas de este dataset es de:311934\n",
      "Entro a setRecencia\n",
      "Se genero cluster de setRecencia\n",
      "Entro a setFrecuencia\n",
      "Se genero cluster de setFrecuencia\n",
      "Entro a setMonto\n",
      "Se genero cluster de setMonto\n",
      "Entro a setCatego\n",
      "Se genero cluster de setCatego\n",
      "CPU times: user 1min 43s, sys: 9.76 s, total: 1min 53s\n",
      "Wall time: 2min 48s\n"
     ]
    }
   ],
   "source": [
    "%%time\n",
    "dataset=setRFM()"
   ]
  }
 ],
 "metadata": {
  "kernelspec": {
   "display_name": "Python 3",
   "language": "python",
   "name": "python3"
  },
  "language_info": {
   "codemirror_mode": {
    "name": "ipython",
    "version": 3
   },
   "file_extension": ".py",
   "mimetype": "text/x-python",
   "name": "python",
   "nbconvert_exporter": "python",
   "pygments_lexer": "ipython3",
   "version": "3.7.2"
  }
 },
 "nbformat": 4,
 "nbformat_minor": 2
}
