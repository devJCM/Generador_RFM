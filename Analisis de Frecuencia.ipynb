{
 "cells": [
  {
   "cell_type": "markdown",
   "metadata": {},
   "source": [
    "# Analisis de Frecuencia"
   ]
  },
  {
   "cell_type": "code",
   "execution_count": 138,
   "metadata": {},
   "outputs": [],
   "source": [
    "import pandas as pd\n",
    "import numpy as np\n",
    "import matplotlib.pyplot as plt\n",
    "import pymysql\n",
    "\n",
    "from sklearn.cluster import KMeans"
   ]
  },
  {
   "cell_type": "markdown",
   "metadata": {},
   "source": [
    "## Data Wrangling"
   ]
  },
  {
   "cell_type": "code",
   "execution_count": 139,
   "metadata": {},
   "outputs": [
    {
     "name": "stdout",
     "output_type": "stream",
     "text": [
      "El numero de filas de este dataset es de:998\n"
     ]
    },
    {
     "data": {
      "text/html": [
       "<div>\n",
       "<style scoped>\n",
       "    .dataframe tbody tr th:only-of-type {\n",
       "        vertical-align: middle;\n",
       "    }\n",
       "\n",
       "    .dataframe tbody tr th {\n",
       "        vertical-align: top;\n",
       "    }\n",
       "\n",
       "    .dataframe thead th {\n",
       "        text-align: right;\n",
       "    }\n",
       "</style>\n",
       "<table border=\"1\" class=\"dataframe\">\n",
       "  <thead>\n",
       "    <tr style=\"text-align: right;\">\n",
       "      <th></th>\n",
       "      <th>Cuenta</th>\n",
       "      <th>Date</th>\n",
       "      <th>Frecuency</th>\n",
       "      <th>Money</th>\n",
       "    </tr>\n",
       "  </thead>\n",
       "  <tbody>\n",
       "    <tr>\n",
       "      <th>0</th>\n",
       "      <td>1</td>\n",
       "      <td>2015-12-16</td>\n",
       "      <td>10</td>\n",
       "      <td>1000.0</td>\n",
       "    </tr>\n",
       "    <tr>\n",
       "      <th>1</th>\n",
       "      <td>2</td>\n",
       "      <td>2015-12-14</td>\n",
       "      <td>2</td>\n",
       "      <td>490.0</td>\n",
       "    </tr>\n",
       "    <tr>\n",
       "      <th>2</th>\n",
       "      <td>3</td>\n",
       "      <td>2015-12-13</td>\n",
       "      <td>7</td>\n",
       "      <td>287.0</td>\n",
       "    </tr>\n",
       "    <tr>\n",
       "      <th>3</th>\n",
       "      <td>4</td>\n",
       "      <td>2015-12-12</td>\n",
       "      <td>4</td>\n",
       "      <td>259.0</td>\n",
       "    </tr>\n",
       "    <tr>\n",
       "      <th>4</th>\n",
       "      <td>5</td>\n",
       "      <td>2015-12-11</td>\n",
       "      <td>6</td>\n",
       "      <td>866.0</td>\n",
       "    </tr>\n",
       "  </tbody>\n",
       "</table>\n",
       "</div>"
      ],
      "text/plain": [
       "   Cuenta       Date  Frecuency   Money\n",
       "0       1 2015-12-16         10  1000.0\n",
       "1       2 2015-12-14          2   490.0\n",
       "2       3 2015-12-13          7   287.0\n",
       "3       4 2015-12-12          4   259.0\n",
       "4       5 2015-12-11          6   866.0"
      ]
     },
     "execution_count": 139,
     "metadata": {},
     "output_type": "execute_result"
    }
   ],
   "source": [
    "host='localhost'\n",
    "db='RFM_unifin'\n",
    "user_db='root'\n",
    "pass_db=''\n",
    "\n",
    "conn=pymysql.connect(host=host, user=user_db, passwd=pass_db, db=db)\n",
    "\n",
    "cur=conn.cursor()\n",
    "\n",
    "query=\"SELECT Cuenta,Last_date,Num_Tickets,Monto FROM Transacciones;\"\n",
    "\n",
    "cur.execute(query),\n",
    "\n",
    "res = cur.fetchall()\n",
    "\n",
    "cur.close()\n",
    "\n",
    "conn.close()\n",
    "\n",
    "headers=['Id','Date','Frecuency','Money']\n",
    "\n",
    "id_RFM=headers[0]\n",
    "target_R=headers[1]\n",
    "target_F=headers[2]\n",
    "target_M=headers[3]\n",
    "\n",
    "\n",
    "dataset_dummy={}\n",
    "filas=0\n",
    "\n",
    "for h in headers:\n",
    "    dataset_dummy[h]=[]\n",
    "    \n",
    "if(len(res)>0):\n",
    "    for r in res:\n",
    "        filas+=1\n",
    "        for i in range(len(headers)):\n",
    "            dataset_dummy[headers[i]].append(r[i])\n",
    "\n",
    "print('El numero de filas de este dataset es de:'+str(filas))\n",
    "\n",
    "dataset=pd.DataFrame(dataset_dummy)#convertir diccionario en dataset\n",
    "dataset[target_R]=dataset[target_R].astype(str).str.replace('-', '')\n",
    "dataset[target_R]=dataset[target_R].astype(str).astype(int)\n",
    "    \n",
    "dataset.head()  "
   ]
  },
  {
   "cell_type": "markdown",
   "metadata": {},
   "source": [
    "**-------------------------------------------------------------------------------------------------------------**"
   ]
  },
  {
   "cell_type": "code",
   "execution_count": 140,
   "metadata": {},
   "outputs": [
    {
     "name": "stdout",
     "output_type": "stream",
     "text": [
      "(998, 4)\n",
      "Cuenta                int64\n",
      "Date         datetime64[ns]\n",
      "Frecuency             int64\n",
      "Money               float64\n",
      "dtype: object\n"
     ]
    },
    {
     "data": {
      "text/html": [
       "<div>\n",
       "<style scoped>\n",
       "    .dataframe tbody tr th:only-of-type {\n",
       "        vertical-align: middle;\n",
       "    }\n",
       "\n",
       "    .dataframe tbody tr th {\n",
       "        vertical-align: top;\n",
       "    }\n",
       "\n",
       "    .dataframe thead th {\n",
       "        text-align: right;\n",
       "    }\n",
       "</style>\n",
       "<table border=\"1\" class=\"dataframe\">\n",
       "  <thead>\n",
       "    <tr style=\"text-align: right;\">\n",
       "      <th></th>\n",
       "      <th>Cuenta</th>\n",
       "      <th>Date</th>\n",
       "      <th>Frecuency</th>\n",
       "      <th>Money</th>\n",
       "    </tr>\n",
       "  </thead>\n",
       "  <tbody>\n",
       "    <tr>\n",
       "      <th>0</th>\n",
       "      <td>337</td>\n",
       "      <td>2015-01-13</td>\n",
       "      <td>1</td>\n",
       "      <td>711.0</td>\n",
       "    </tr>\n",
       "    <tr>\n",
       "      <th>1</th>\n",
       "      <td>392</td>\n",
       "      <td>2014-11-19</td>\n",
       "      <td>1</td>\n",
       "      <td>826.0</td>\n",
       "    </tr>\n",
       "    <tr>\n",
       "      <th>2</th>\n",
       "      <td>967</td>\n",
       "      <td>2013-04-23</td>\n",
       "      <td>1</td>\n",
       "      <td>332.0</td>\n",
       "    </tr>\n",
       "    <tr>\n",
       "      <th>3</th>\n",
       "      <td>940</td>\n",
       "      <td>2013-05-20</td>\n",
       "      <td>1</td>\n",
       "      <td>230.0</td>\n",
       "    </tr>\n",
       "    <tr>\n",
       "      <th>4</th>\n",
       "      <td>968</td>\n",
       "      <td>2013-04-22</td>\n",
       "      <td>1</td>\n",
       "      <td>78.0</td>\n",
       "    </tr>\n",
       "  </tbody>\n",
       "</table>\n",
       "</div>"
      ],
      "text/plain": [
       "   Cuenta       Date  Frecuency  Money\n",
       "0     337 2015-01-13          1  711.0\n",
       "1     392 2014-11-19          1  826.0\n",
       "2     967 2013-04-23          1  332.0\n",
       "3     940 2013-05-20          1  230.0\n",
       "4     968 2013-04-22          1   78.0"
      ]
     },
     "execution_count": 140,
     "metadata": {},
     "output_type": "execute_result"
    }
   ],
   "source": [
    "print(dataset.shape)\n",
    "print(dataset.dtypes)\n",
    "\n",
    "dataset=dataset.sort_values(by=target_F,ascending=True)\n",
    "dataset = dataset.reset_index(drop=True)\n",
    "dataset.head()"
   ]
  },
  {
   "cell_type": "code",
   "execution_count": 141,
   "metadata": {},
   "outputs": [],
   "source": [
    "#Normalizacion de Dataset\n",
    "#se mecesitan todas la variables numericas\n",
    "#dataset_norm=(dataset-dataset.min())/(dataset.max()-dataset.min())\n",
    "#dataset_norm.head()"
   ]
  },
  {
   "cell_type": "markdown",
   "metadata": {},
   "source": [
    "## Creacion y ajustes de Clusters"
   ]
  },
  {
   "cell_type": "code",
   "execution_count": 142,
   "metadata": {
    "scrolled": true
   },
   "outputs": [
    {
     "data": {
      "text/html": [
       "<div>\n",
       "<style scoped>\n",
       "    .dataframe tbody tr th:only-of-type {\n",
       "        vertical-align: middle;\n",
       "    }\n",
       "\n",
       "    .dataframe tbody tr th {\n",
       "        vertical-align: top;\n",
       "    }\n",
       "\n",
       "    .dataframe thead th {\n",
       "        text-align: right;\n",
       "    }\n",
       "</style>\n",
       "<table border=\"1\" class=\"dataframe\">\n",
       "  <thead>\n",
       "    <tr style=\"text-align: right;\">\n",
       "      <th></th>\n",
       "      <th>Cuenta</th>\n",
       "      <th>Date</th>\n",
       "      <th>Frecuency</th>\n",
       "      <th>Money</th>\n",
       "      <th>p_f</th>\n",
       "    </tr>\n",
       "  </thead>\n",
       "  <tbody>\n",
       "    <tr>\n",
       "      <th>0</th>\n",
       "      <td>337</td>\n",
       "      <td>2015-01-13</td>\n",
       "      <td>1</td>\n",
       "      <td>711.0</td>\n",
       "      <td>4</td>\n",
       "    </tr>\n",
       "    <tr>\n",
       "      <th>1</th>\n",
       "      <td>392</td>\n",
       "      <td>2014-11-19</td>\n",
       "      <td>1</td>\n",
       "      <td>826.0</td>\n",
       "      <td>4</td>\n",
       "    </tr>\n",
       "    <tr>\n",
       "      <th>2</th>\n",
       "      <td>967</td>\n",
       "      <td>2013-04-23</td>\n",
       "      <td>1</td>\n",
       "      <td>332.0</td>\n",
       "      <td>4</td>\n",
       "    </tr>\n",
       "    <tr>\n",
       "      <th>3</th>\n",
       "      <td>940</td>\n",
       "      <td>2013-05-20</td>\n",
       "      <td>1</td>\n",
       "      <td>230.0</td>\n",
       "      <td>4</td>\n",
       "    </tr>\n",
       "    <tr>\n",
       "      <th>4</th>\n",
       "      <td>968</td>\n",
       "      <td>2013-04-22</td>\n",
       "      <td>1</td>\n",
       "      <td>78.0</td>\n",
       "      <td>4</td>\n",
       "    </tr>\n",
       "  </tbody>\n",
       "</table>\n",
       "</div>"
      ],
      "text/plain": [
       "   Cuenta       Date  Frecuency  Money  p_f\n",
       "0     337 2015-01-13          1  711.0    4\n",
       "1     392 2014-11-19          1  826.0    4\n",
       "2     967 2013-04-23          1  332.0    4\n",
       "3     940 2013-05-20          1  230.0    4\n",
       "4     968 2013-04-22          1   78.0    4"
      ]
     },
     "execution_count": 142,
     "metadata": {},
     "output_type": "execute_result"
    }
   ],
   "source": [
    "model_f=KMeans(n_clusters=5).fit(dataset[[target_F]])\n",
    "clust_f=pd.Series(model_f.labels_)\n",
    "dataset['p_f']=clust_f\n",
    "dataset.head()"
   ]
  },
  {
   "cell_type": "code",
   "execution_count": 143,
   "metadata": {},
   "outputs": [
    {
     "name": "stdout",
     "output_type": "stream",
     "text": [
      "[2, 4, 6, 8, 10]\n"
     ]
    }
   ],
   "source": [
    "lim_clusts=[]\n",
    "for i in range(0,5):\n",
    "    x=dataset[dataset['p_f']==i]\n",
    "    lim_clusts.append(x[target_F].max())\n",
    "lim_clusts.sort()   \n",
    "\n",
    "print(lim_clusts)"
   ]
  },
  {
   "cell_type": "code",
   "execution_count": 144,
   "metadata": {},
   "outputs": [
    {
     "name": "stdout",
     "output_type": "stream",
     "text": [
      "2\n",
      "4\n",
      "6\n",
      "8\n",
      "10\n"
     ]
    }
   ],
   "source": [
    "lim1=lim_clusts[0]\n",
    "lim2=lim_clusts[1]\n",
    "lim3=lim_clusts[2]\n",
    "lim4=lim_clusts[3]\n",
    "lim5=lim_clusts[4]\n",
    "\n",
    "print(lim1)\n",
    "print(lim2)\n",
    "print(lim3)\n",
    "print(lim4)\n",
    "print(lim5)"
   ]
  },
  {
   "cell_type": "code",
   "execution_count": 145,
   "metadata": {
    "scrolled": false
   },
   "outputs": [
    {
     "data": {
      "text/html": [
       "<div>\n",
       "<style scoped>\n",
       "    .dataframe tbody tr th:only-of-type {\n",
       "        vertical-align: middle;\n",
       "    }\n",
       "\n",
       "    .dataframe tbody tr th {\n",
       "        vertical-align: top;\n",
       "    }\n",
       "\n",
       "    .dataframe thead th {\n",
       "        text-align: right;\n",
       "    }\n",
       "</style>\n",
       "<table border=\"1\" class=\"dataframe\">\n",
       "  <thead>\n",
       "    <tr style=\"text-align: right;\">\n",
       "      <th></th>\n",
       "      <th>Cuenta</th>\n",
       "      <th>Date</th>\n",
       "      <th>Frecuency</th>\n",
       "      <th>Money</th>\n",
       "      <th>F</th>\n",
       "    </tr>\n",
       "  </thead>\n",
       "  <tbody>\n",
       "    <tr>\n",
       "      <th>0</th>\n",
       "      <td>337</td>\n",
       "      <td>2015-01-13</td>\n",
       "      <td>1</td>\n",
       "      <td>711.0</td>\n",
       "      <td>1.0</td>\n",
       "    </tr>\n",
       "    <tr>\n",
       "      <th>1</th>\n",
       "      <td>392</td>\n",
       "      <td>2014-11-19</td>\n",
       "      <td>1</td>\n",
       "      <td>826.0</td>\n",
       "      <td>1.0</td>\n",
       "    </tr>\n",
       "    <tr>\n",
       "      <th>2</th>\n",
       "      <td>967</td>\n",
       "      <td>2013-04-23</td>\n",
       "      <td>1</td>\n",
       "      <td>332.0</td>\n",
       "      <td>1.0</td>\n",
       "    </tr>\n",
       "    <tr>\n",
       "      <th>3</th>\n",
       "      <td>940</td>\n",
       "      <td>2013-05-20</td>\n",
       "      <td>1</td>\n",
       "      <td>230.0</td>\n",
       "      <td>1.0</td>\n",
       "    </tr>\n",
       "    <tr>\n",
       "      <th>4</th>\n",
       "      <td>968</td>\n",
       "      <td>2013-04-22</td>\n",
       "      <td>1</td>\n",
       "      <td>78.0</td>\n",
       "      <td>1.0</td>\n",
       "    </tr>\n",
       "  </tbody>\n",
       "</table>\n",
       "</div>"
      ],
      "text/plain": [
       "   Cuenta       Date  Frecuency  Money    F\n",
       "0     337 2015-01-13          1  711.0  1.0\n",
       "1     392 2014-11-19          1  826.0  1.0\n",
       "2     967 2013-04-23          1  332.0  1.0\n",
       "3     940 2013-05-20          1  230.0  1.0\n",
       "4     968 2013-04-22          1   78.0  1.0"
      ]
     },
     "execution_count": 145,
     "metadata": {},
     "output_type": "execute_result"
    }
   ],
   "source": [
    "dataset.loc[(dataset[target_F] <= lim1), 'F'] = 1\n",
    "dataset.loc[(dataset[target_F] <= lim2) & (dataset[target_F] > lim1), 'F'] = 2\n",
    "dataset.loc[(dataset[target_F] <= lim3) & (dataset[target_F] > lim2), 'F'] = 3\n",
    "dataset.loc[(dataset[target_F] <= lim4) & (dataset[target_F] > lim3), 'F'] = 4\n",
    "dataset.loc[(dataset[target_F] <= lim5) & (dataset[target_F] > lim4), 'F'] = 5\n",
    "\n",
    "dataset=dataset.drop(['p_f'], axis=1)\n",
    "\n",
    "dataset.head()"
   ]
  },
  {
   "cell_type": "markdown",
   "metadata": {},
   "source": [
    "## Actualizacion de DB"
   ]
  },
  {
   "cell_type": "code",
   "execution_count": 146,
   "metadata": {},
   "outputs": [],
   "source": [
    "#conn=pymysql.connect(host=host, user=user_db, passwd=pass_db, db=db)\n",
    "\n",
    "#cur=conn.cursor()\n",
    "#for index,row in dataset.iterrows():\n",
    "#\tquery=\"Update Transacciones set F=\"+str(int(row['F']))+\" where Cuenta=\"+str(int(row[id_RFM]))+\";\"\n",
    "#\tcur.execute(query)\n",
    "\n",
    "#conn.commit()\n",
    "#cur.close()\n",
    "#conn.close()"
   ]
  },
  {
   "cell_type": "markdown",
   "metadata": {},
   "source": [
    "## Conclusion"
   ]
  },
  {
   "cell_type": "code",
   "execution_count": 147,
   "metadata": {},
   "outputs": [
    {
     "data": {
      "text/html": [
       "<div>\n",
       "<style scoped>\n",
       "    .dataframe tbody tr th:only-of-type {\n",
       "        vertical-align: middle;\n",
       "    }\n",
       "\n",
       "    .dataframe tbody tr th {\n",
       "        vertical-align: top;\n",
       "    }\n",
       "\n",
       "    .dataframe thead th {\n",
       "        text-align: right;\n",
       "    }\n",
       "</style>\n",
       "<table border=\"1\" class=\"dataframe\">\n",
       "  <thead>\n",
       "    <tr style=\"text-align: right;\">\n",
       "      <th></th>\n",
       "      <th>5.0</th>\n",
       "      <th>4.0</th>\n",
       "      <th>1.0</th>\n",
       "      <th>3.0</th>\n",
       "      <th>2.0</th>\n",
       "    </tr>\n",
       "  </thead>\n",
       "  <tbody>\n",
       "    <tr>\n",
       "      <th>0</th>\n",
       "      <td>215</td>\n",
       "      <td>210</td>\n",
       "      <td>201</td>\n",
       "      <td>186</td>\n",
       "      <td>186</td>\n",
       "    </tr>\n",
       "  </tbody>\n",
       "</table>\n",
       "</div>"
      ],
      "text/plain": [
       "   5.0  4.0  1.0  3.0  2.0\n",
       "0  215  210  201  186  186"
      ]
     },
     "execution_count": 147,
     "metadata": {},
     "output_type": "execute_result"
    }
   ],
   "source": [
    "d=dataset['F'].value_counts().to_dict()\n",
    "f_frame=pd.DataFrame([d], columns=d.keys())\n",
    "f_frame"
   ]
  },
  {
   "cell_type": "code",
   "execution_count": 148,
   "metadata": {},
   "outputs": [
    {
     "data": {
      "text/plain": [
       "[]"
      ]
     },
     "execution_count": 148,
     "metadata": {},
     "output_type": "execute_result"
    },
    {
     "data": {
      "image/png": "[encoded data removed]",
      "text/plain": [
       "<Figure size 432x288 with 1 Axes>"
      ]
     },
     "metadata": {
      "needs_background": "light"
     },
     "output_type": "display_data"
    }
   ],
   "source": [
    "ax=f_frame.plot(kind='bar')\n",
    "ax.set_title('Clusters de Frecuencia')\n",
    "ax.set_xlabel('Puntaje de Frecuencia')\n",
    "ax.set_ylabel('Frecuencia')\n",
    "ax.set_xticklabels('')"
   ]
  },
  {
   "cell_type": "code",
   "execution_count": 149,
   "metadata": {
    "scrolled": true
   },
   "outputs": [
    {
     "data": {
      "text/plain": [
       "Text(0.5, 1.0, 'Distribuicion de frecuencias y Clusters')"
      ]
     },
     "execution_count": 149,
     "metadata": {},
     "output_type": "execute_result"
    },
    {
     "data": {
      "image/png": "[encoded data removed]",
      "text/plain": [
       "<Figure size 432x288 with 1 Axes>"
      ]
     },
     "metadata": {
      "needs_background": "light"
     },
     "output_type": "display_data"
    }
   ],
   "source": [
    "plt.scatter(x=dataset[id_RFM],y=dataset[target_F],c=clust_f)\n",
    "plt.title('Distribuicion de frecuencias y Clusters')"
   ]
  },
  {
   "cell_type": "code",
   "execution_count": 150,
   "metadata": {},
   "outputs": [
    {
     "name": "stdout",
     "output_type": "stream",
     "text": [
      "Para el Cluster con valor en F= 5.0\n",
      "Las Frecuencias van de  9  a  10\n",
      "\n",
      "Para el Cluster con valor en F= 4.0\n",
      "Las Frecuencias van de  7  a  8\n",
      "\n",
      "Para el Cluster con valor en F= 1.0\n",
      "Las Frecuencias van de  1  a  2\n",
      "\n",
      "Para el Cluster con valor en F= 3.0\n",
      "Las Frecuencias van de  5  a  6\n",
      "\n",
      "Para el Cluster con valor en F= 2.0\n",
      "Las Frecuencias van de  3  a  4\n",
      "\n"
     ]
    }
   ],
   "source": [
    "for i in f_frame.columns.values:\n",
    "    x=dataset[dataset['F']==i]\n",
    "    print('Para el Cluster con valor en F=',i)\n",
    "    print('Las Frecuencias van de ',x[target_F].min(),' a ',x[target_F].max())\n",
    "    print('')"
   ]
  }
 ],
 "metadata": {
  "kernelspec": {
   "display_name": "Python 3",
   "language": "python",
   "name": "python3"
  },
  "language_info": {
   "codemirror_mode": {
    "name": "ipython",
    "version": 3
   },
   "file_extension": ".py",
   "mimetype": "text/x-python",
   "name": "python",
   "nbconvert_exporter": "python",
   "pygments_lexer": "ipython3",
   "version": "3.7.1"
  }
 },
 "nbformat": 4,
 "nbformat_minor": 2
}
