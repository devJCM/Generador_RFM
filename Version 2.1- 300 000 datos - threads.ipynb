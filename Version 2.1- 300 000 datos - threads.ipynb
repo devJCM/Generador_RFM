{
 "cells": [
  {
   "cell_type": "markdown",
   "metadata": {},
   "source": [
    "# Prueba con 300 000 datos con Threads"
   ]
  },
  {
   "cell_type": "markdown",
   "metadata": {},
   "source": [
    "### --> Prueba con Update global"
   ]
  },
  {
   "cell_type": "markdown",
   "metadata": {},
   "source": [
    "***Hacer Update en Mysql de las siguientes variables para que no truene el proceso***\n",
    "\n",
    "SET GLOBAL innodb_lock_wait_timeout = 10000; \n",
    "SET innodb_lock_wait_timeout = 10000; "
   ]
  },
  {
   "cell_type": "code",
   "execution_count": 1,
   "metadata": {},
   "outputs": [],
   "source": [
    "import time\n",
    "from generadorRFM import setRFM"
   ]
  },
  {
   "cell_type": "code",
   "execution_count": 2,
   "metadata": {},
   "outputs": [
    {
     "name": "stdout",
     "output_type": "stream",
     "text": [
      "segmentos:  [{'nombre': 'bronce'}, {'nombre': 'plata'}, {'nombre': 'oro'}]\n",
      "El numero de filas de este dataset es de:311934\n",
      "Entro a setRecencia\n",
      "Entro a setFrecuencia\n",
      "Entro a setMonto\n",
      "Entro a setCatego\n",
      "CPU times: user 1min 47s, sys: 19.6 s, total: 2min 7s\n",
      "Wall time: 2min 55s\n"
     ]
    }
   ],
   "source": [
    "%%time\n",
    "dataset=setRFM()"
   ]
  }
 ],
 "metadata": {
  "kernelspec": {
   "display_name": "Python 3",
   "language": "python",
   "name": "python3"
  },
  "language_info": {
   "codemirror_mode": {
    "name": "ipython",
    "version": 3
   },
   "file_extension": ".py",
   "mimetype": "text/x-python",
   "name": "python",
   "nbconvert_exporter": "python",
   "pygments_lexer": "ipython3",
   "version": "3.7.2"
  }
 },
 "nbformat": 4,
 "nbformat_minor": 2
}
