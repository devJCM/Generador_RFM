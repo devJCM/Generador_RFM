{
 "cells": [
  {
   "cell_type": "markdown",
   "metadata": {},
   "source": [
    "# Prueba con 17 000 datos con Threads"
   ]
  },
  {
   "cell_type": "code",
   "execution_count": 1,
   "metadata": {},
   "outputs": [],
   "source": [
    "import time\n",
    "from generadorRFM import setRFM"
   ]
  },
  {
   "cell_type": "code",
   "execution_count": null,
   "metadata": {},
   "outputs": [
    {
     "name": "stdout",
     "output_type": "stream",
     "text": [
      "El numero de filas de este dataset es de:17302\n",
      "Entro a setRecenciaEntro a setFrecuencia\n",
      "\n",
      "Entro a setMonto\n"
     ]
    },
    {
     "name": "stderr",
     "output_type": "stream",
     "text": [
      "Exception in thread Thread-6:\n",
      "Traceback (most recent call last):\n",
      "  File \"/home/jess/anaconda3/lib/python3.7/threading.py\", line 917, in _bootstrap_inner\n",
      "    self.run()\n",
      "  File \"/home/jess/anaconda3/lib/python3.7/threading.py\", line 865, in run\n",
      "    self._target(*self._args, **self._kwargs)\n",
      "  File \"/home/jess/Documentos/Python/Generador-RFM/generadorRFM.py\", line 252, in setMonto\n",
      "    cur_m.execute(query)\n",
      "  File \"/home/jess/anaconda3/lib/python3.7/site-packages/pymysql/cursors.py\", line 170, in execute\n",
      "    result = self._query(query)\n",
      "  File \"/home/jess/anaconda3/lib/python3.7/site-packages/pymysql/cursors.py\", line 328, in _query\n",
      "    conn.query(q)\n",
      "  File \"/home/jess/anaconda3/lib/python3.7/site-packages/pymysql/connections.py\", line 516, in query\n",
      "    self._affected_rows = self._read_query_result(unbuffered=unbuffered)\n",
      "  File \"/home/jess/anaconda3/lib/python3.7/site-packages/pymysql/connections.py\", line 727, in _read_query_result\n",
      "    result.read()\n",
      "  File \"/home/jess/anaconda3/lib/python3.7/site-packages/pymysql/connections.py\", line 1066, in read\n",
      "    first_packet = self.connection._read_packet()\n",
      "  File \"/home/jess/anaconda3/lib/python3.7/site-packages/pymysql/connections.py\", line 683, in _read_packet\n",
      "    packet.check_error()\n",
      "  File \"/home/jess/anaconda3/lib/python3.7/site-packages/pymysql/protocol.py\", line 220, in check_error\n",
      "    err.raise_mysql_exception(self._data)\n",
      "  File \"/home/jess/anaconda3/lib/python3.7/site-packages/pymysql/err.py\", line 109, in raise_mysql_exception\n",
      "    raise errorclass(errno, errval)\n",
      "pymysql.err.InternalError: (1205, 'Lock wait timeout exceeded; try restarting transaction')\n",
      "\n",
      "Exception in thread Thread-4:\n",
      "Traceback (most recent call last):\n",
      "  File \"/home/jess/anaconda3/lib/python3.7/threading.py\", line 917, in _bootstrap_inner\n",
      "    self.run()\n",
      "  File \"/home/jess/anaconda3/lib/python3.7/threading.py\", line 865, in run\n",
      "    self._target(*self._args, **self._kwargs)\n",
      "  File \"/home/jess/Documentos/Python/Generador-RFM/generadorRFM.py\", line 158, in setRecencia\n",
      "    cur_r.execute(query)\n",
      "  File \"/home/jess/anaconda3/lib/python3.7/site-packages/pymysql/cursors.py\", line 170, in execute\n",
      "    result = self._query(query)\n",
      "  File \"/home/jess/anaconda3/lib/python3.7/site-packages/pymysql/cursors.py\", line 328, in _query\n",
      "    conn.query(q)\n",
      "  File \"/home/jess/anaconda3/lib/python3.7/site-packages/pymysql/connections.py\", line 516, in query\n",
      "    self._affected_rows = self._read_query_result(unbuffered=unbuffered)\n",
      "  File \"/home/jess/anaconda3/lib/python3.7/site-packages/pymysql/connections.py\", line 727, in _read_query_result\n",
      "    result.read()\n",
      "  File \"/home/jess/anaconda3/lib/python3.7/site-packages/pymysql/connections.py\", line 1066, in read\n",
      "    first_packet = self.connection._read_packet()\n",
      "  File \"/home/jess/anaconda3/lib/python3.7/site-packages/pymysql/connections.py\", line 683, in _read_packet\n",
      "    packet.check_error()\n",
      "  File \"/home/jess/anaconda3/lib/python3.7/site-packages/pymysql/protocol.py\", line 220, in check_error\n",
      "    err.raise_mysql_exception(self._data)\n",
      "  File \"/home/jess/anaconda3/lib/python3.7/site-packages/pymysql/err.py\", line 109, in raise_mysql_exception\n",
      "    raise errorclass(errno, errval)\n",
      "pymysql.err.InternalError: (1205, 'Lock wait timeout exceeded; try restarting transaction')\n",
      "\n"
     ]
    }
   ],
   "source": [
    "%%time\n",
    "dataset=setRFM()"
   ]
  }
 ],
 "metadata": {
  "kernelspec": {
   "display_name": "Python 3",
   "language": "python",
   "name": "python3"
  },
  "language_info": {
   "codemirror_mode": {
    "name": "ipython",
    "version": 3
   },
   "file_extension": ".py",
   "mimetype": "text/x-python",
   "name": "python",
   "nbconvert_exporter": "python",
   "pygments_lexer": "ipython3",
   "version": "3.7.2"
  }
 },
 "nbformat": 4,
 "nbformat_minor": 2
}
