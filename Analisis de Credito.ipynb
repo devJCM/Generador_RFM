{
 "cells": [
  {
   "cell_type": "code",
   "execution_count": 419,
   "metadata": {},
   "outputs": [],
   "source": [
    "import pymysql\n",
    "import pandas as pd\n",
    "import numpy as np\n",
    "from sklearn.preprocessing import MinMaxScaler"
   ]
  },
  {
   "cell_type": "code",
   "execution_count": 420,
   "metadata": {},
   "outputs": [],
   "source": [
    "def create_dummies(dataset,columns):\n",
    "    \n",
    "    for column in columns:\n",
    "        dummy=pd.get_dummies(dataset[column],prefix=column)\n",
    "\n",
    "        dataset=dataset.drop(column,axis=1)#axis=1-->para eliminar columna y no fila\n",
    "\n",
    "        dataset=pd.concat([dataset,dummy],axis=1)#axis=1-->para agregar columna y no fila\n",
    "\n",
    "    return dataset"
   ]
  },
  {
   "cell_type": "code",
   "execution_count": 421,
   "metadata": {},
   "outputs": [],
   "source": [
    "def normalize_columns(dataset,columns):\n",
    "    \n",
    "    scaler = MinMaxScaler()\n",
    "    \n",
    "    scaled_X = scaler.fit_transform(dataset[columns])\n",
    "    \n",
    "    X_normalized=pd.DataFrame(scaled_X,columns=columns)\n",
    "    \n",
    "    dataset=dataset.drop(columns,axis=1)#axis=1-->para eliminar columna y no fila\n",
    "    \n",
    "    new_dataset=pd.concat([dataset,X_normalized],axis=1)#axis=1-->para agregar columna y no fila\n",
    "    return new_dataset"
   ]
  },
  {
   "cell_type": "code",
   "execution_count": 422,
   "metadata": {},
   "outputs": [
    {
     "name": "stdout",
     "output_type": "stream",
     "text": [
      "El numero de filas de este dataset es de:30069\n",
      "(30069, 13)\n",
      "id               object\n",
      "Macro_sector     object\n",
      "Sector           object\n",
      "Subsector        object\n",
      "Actividad        object\n",
      "Ventas          float64\n",
      "Activo_fijo     float64\n",
      "Potencial       float64\n",
      "Cheques          object\n",
      "Etapa            object\n",
      "Subetapa         object\n",
      "Monto           float64\n",
      "Producto         object\n",
      "dtype: object\n"
     ]
    }
   ],
   "source": [
    "try:\n",
    "    conn=pymysql.connect(host='localhost', user='root', passwd='', db='CustomerInfo')\n",
    "    cur=conn.cursor()\n",
    "    query=\"SELECT Id_cliente,Macro_sector,Sector,Subsector,Actividad,Ventas,Activo_fijo,Potencial,Cheques,Etapa,Subetapa,Monto,Producto from nbo_model;\"\n",
    "    cur.execute(query)\n",
    "    res = cur.fetchall()\n",
    "    cur.close()\n",
    "    conn.close()\n",
    "    \n",
    "except pymysql.Error as e:\n",
    "    msj= (\"Error %d: %s\" % (e.args[0], e.args[1]))\n",
    "    print(msj)\n",
    "else:\n",
    "    headers=['id','Macro_sector','Sector','Subsector','Actividad','Ventas','Activo_fijo','Potencial','Cheques','Etapa','Subetapa','Monto','Producto']\n",
    "    dataset_dummy={}\n",
    "    filas=0\n",
    "\n",
    "    for h in headers:\n",
    "        dataset_dummy[h]=[]\n",
    "\n",
    "    if(len(res)>0):\n",
    "        for r in res:\n",
    "            filas+=1\n",
    "            for i in range(len(headers)):\n",
    "                dataset_dummy[headers[i]].append(r[i])\n",
    "\n",
    "    print('El numero de filas de este dataset es de:'+str(filas))\n",
    "\n",
    "    df1=pd.DataFrame(dataset_dummy) \n",
    "    print(df1.shape)\n",
    "\n",
    "    print(df1.dtypes)"
   ]
  },
  {
   "cell_type": "markdown",
   "metadata": {},
   "source": [
    "## Analisis de datos"
   ]
  },
  {
   "cell_type": "code",
   "execution_count": 423,
   "metadata": {},
   "outputs": [],
   "source": [
    "#df2=create_dummies(df1,['Etapa'])"
   ]
  },
  {
   "cell_type": "code",
   "execution_count": 424,
   "metadata": {},
   "outputs": [
    {
     "name": "stdout",
     "output_type": "stream",
     "text": [
      "(30069, 13)\n"
     ]
    }
   ],
   "source": [
    "df2=df1#[df1['Subetapa']=='N']\n",
    "print(df2.shape)\n",
    "#df2.head()"
   ]
  },
  {
   "cell_type": "code",
   "execution_count": 425,
   "metadata": {},
   "outputs": [
    {
     "data": {
      "text/plain": [
       "(29991, 7)"
      ]
     },
     "execution_count": 425,
     "metadata": {},
     "output_type": "execute_result"
    }
   ],
   "source": [
    "Y=df2[['Monto']]\n",
    "#columns=['Ventas','Activo_fijo','Monto2','Potencial']\n",
    "#X=df2[columns]\n",
    "X=df2[['Macro_sector','Sector','Subsector','Actividad','Ventas','Activo_fijo','Potencial']]\n",
    "#X=df2[['Macro_sector','Sector','Subsector','Actividad']]\n",
    "#X=df2[['Ventas','Activo_fijo','Potencial']]\n",
    "#X['Cheques']=X['Cheques'].fillna(0)\n",
    "indexes_empties_x=X[pd.isnull(X).any(axis=1)].index.tolist()\n",
    "indexes_empties_y=Y[pd.isnull(Y).any(axis=1)].index.tolist()\n",
    "X=X.dropna(axis=0,how=\"any\")\n",
    "X=X.reset_index(drop=True)\n",
    "Y=Y.drop(indexes_empties_x)\n",
    "Y= Y.reset_index(drop=True)\n",
    "\n",
    "Y=Y.dropna(axis=0,how=\"any\")\n",
    "Y=Y.reset_index(drop=True)\n",
    "X=X.drop(indexes_empties_y)\n",
    "X=X.reset_index(drop=True)\n",
    "\n",
    "X.shape"
   ]
  },
  {
   "cell_type": "code",
   "execution_count": 426,
   "metadata": {},
   "outputs": [
    {
     "data": {
      "text/plain": [
       "(29991, 7)"
      ]
     },
     "execution_count": 426,
     "metadata": {},
     "output_type": "execute_result"
    }
   ],
   "source": [
    "X_normalized=normalize_columns(X,['Ventas','Activo_fijo','Potencial'])\n",
    "X_normalized.shape"
   ]
  },
  {
   "cell_type": "code",
   "execution_count": 427,
   "metadata": {},
   "outputs": [
    {
     "data": {
      "text/plain": [
       "(29991, 1020)"
      ]
     },
     "execution_count": 427,
     "metadata": {},
     "output_type": "execute_result"
    }
   ],
   "source": [
    "#X_normalized=create_dummies(X,columns)\n",
    "X_normalized=create_dummies(X_normalized,['Macro_sector','Sector','Subsector','Actividad'])\n",
    "X_normalized.shape"
   ]
  },
  {
   "cell_type": "code",
   "execution_count": 428,
   "metadata": {},
   "outputs": [],
   "source": [
    "#categoricas=['Macro_sector','Sector','Subsector','Actividad']\n",
    "#for c in categoricas:\n",
    "#    X[c], _ = pd.factorize(X[c])\n",
    "#X.dtypes "
   ]
  },
  {
   "cell_type": "code",
   "execution_count": 429,
   "metadata": {},
   "outputs": [],
   "source": [
    "from sklearn.model_selection import train_test_split"
   ]
  },
  {
   "cell_type": "code",
   "execution_count": 430,
   "metadata": {},
   "outputs": [],
   "source": [
    "X_train,X_test,Y_train,Y_test=train_test_split(X_normalized,Y.values.ravel(),test_size=.2)"
   ]
  },
  {
   "cell_type": "code",
   "execution_count": 431,
   "metadata": {},
   "outputs": [],
   "source": [
    "from math import sqrt\n",
    "from sklearn.metrics import mean_squared_error "
   ]
  },
  {
   "cell_type": "markdown",
   "metadata": {},
   "source": [
    "## Regresion Lineal"
   ]
  },
  {
   "cell_type": "markdown",
   "metadata": {},
   "source": [
    "from sklearn.linear_model import LinearRegression\n",
    "\n",
    "lr=LinearRegression()\n",
    "\n",
    "lr.fit(X_train,Y_train)\n",
    "\n",
    "scorel=lr.score(X_test,Y_test)\n",
    "\n",
    "predictl=lr.predict(X_test)\n",
    "\n",
    "errorl = sqrt(mean_squared_error(Y_test,predictl))"
   ]
  },
  {
   "cell_type": "markdown",
   "metadata": {},
   "source": [
    "## Forest"
   ]
  },
  {
   "cell_type": "code",
   "execution_count": 412,
   "metadata": {},
   "outputs": [
    {
     "name": "stdout",
     "output_type": "stream",
     "text": [
      "CPU times: user 47.3 s, sys: 144 ms, total: 47.4 s\n",
      "Wall time: 24.8 s\n"
     ]
    }
   ],
   "source": [
    "%%time\n",
    "\n",
    "from sklearn.ensemble import RandomForestRegressor\n",
    "\n",
    "forest=RandomForestRegressor(n_jobs=2, n_estimators=20)\n",
    "\n",
    "forest.fit(X_train,Y_train)\n",
    "\n",
    "scoref=forest.score(X_test,Y_test)\n",
    "\n",
    "predictf=forest.predict(X_test)\n",
    "\n",
    "errorf = sqrt(mean_squared_error(Y_test,predictf))"
   ]
  },
  {
   "cell_type": "markdown",
   "metadata": {},
   "source": [
    "## SVM"
   ]
  },
  {
   "cell_type": "markdown",
   "metadata": {},
   "source": [
    "%%time\n",
    "\n",
    "from sklearn.svm import SVR\n",
    "from sklearn.svm import SVC\n",
    "\n",
    "C=1e3\n",
    "svc_rbf = SVR(kernel=\"rbf\", C=C, gamma=0.1) #kernel radial\n",
    "\n",
    "model= svc_rbf.fit(X_train,Y_train)\n",
    "\n",
    "scores=model.score(X_test,Y_test)\n",
    "\n",
    "predicts=model.predict(X_test)\n",
    "\n",
    "errors = sqrt(mean_squared_error(Y_test,predicts))"
   ]
  },
  {
   "cell_type": "markdown",
   "metadata": {},
   "source": [
    "## KNN"
   ]
  },
  {
   "cell_type": "code",
   "execution_count": 413,
   "metadata": {},
   "outputs": [
    {
     "name": "stdout",
     "output_type": "stream",
     "text": [
      "CPU times: user 4min 13s, sys: 344 ms, total: 4min 13s\n",
      "Wall time: 2min 10s\n"
     ]
    }
   ],
   "source": [
    "%%time\n",
    "\n",
    "from sklearn.neighbors import KNeighborsRegressor\n",
    "\n",
    "knn = KNeighborsRegressor(n_jobs=2,n_neighbors =20)\n",
    "\n",
    "knn.fit(X_train, Y_train)\n",
    "\n",
    "scorek=knn.score(X_test,Y_test)\n",
    "\n",
    "predictknn=knn.predict(X_test)\n",
    "\n",
    "errork = sqrt(mean_squared_error(Y_test,predictknn))\n",
    "\n",
    "#predictknn2=knn.predict_proba(X_test)"
   ]
  },
  {
   "cell_type": "markdown",
   "metadata": {},
   "source": [
    "## Conclusion"
   ]
  },
  {
   "cell_type": "code",
   "execution_count": 414,
   "metadata": {},
   "outputs": [
    {
     "name": "stdout",
     "output_type": "stream",
     "text": [
      ">> Forest.... <<\n",
      "Score -1289024488731.8706\n",
      "Error 368579566384665.7\n",
      "[(45923954.97079341, 12000000.0), (4160594.1088416777, 200000.0), (651935.9863378117, 525365.81), (9861313.911880737, 1126746.951), (4669542.682587242, 700000.0)]\n",
      ">> KNN.... <<\n",
      "Score -79084214060.17581\n",
      "Error 91294701337954.27\n",
      "[(44534550.509609744, 12000000.0), (4176574.1504999995, 200000.0), (320196.212, 525365.81), (14897086.473072901, 1126746.951), (2365544.2985, 700000.0)]\n"
     ]
    }
   ],
   "source": [
    "#----------------------------\n",
    "\n",
    "#print('>> LR.... <<')\n",
    "#print('Score',scorel)\n",
    "#print('Error',errorl)\n",
    "#print(list(zip(predictl, Y_test))[:5])\n",
    "\n",
    "#----------------------------\n",
    "\n",
    "print('>> Forest.... <<')\n",
    "print('Score',scoref)\n",
    "print('Error',errorf)\n",
    "print(list(zip(predictf, Y_test))[:5])\n",
    "#----------------------------\n",
    "\n",
    "#print('>> SVR.... <<')\n",
    "#print('Score',scores)\n",
    "#print('Error',errors)\n",
    "#print(list(zip(predicts, Y_test))[:5])\n",
    "\n",
    "#----------------------------\n",
    "\n",
    "print('>> KNN.... <<')\n",
    "print('Score',scorek)\n",
    "print('Error',errork)\n",
    "print(list(zip(predictknn, Y_test))[:5])\n",
    "  "
   ]
  },
  {
   "cell_type": "markdown",
   "metadata": {},
   "source": [
    "## Obtener mejores variables"
   ]
  },
  {
   "cell_type": "code",
   "execution_count": 101,
   "metadata": {},
   "outputs": [
    {
     "name": "stdout",
     "output_type": "stream",
     "text": [
      "CPU times: user 1h 1min 4s, sys: 3min 49s, total: 1h 4min 54s\n",
      "Wall time: 32min 38s\n"
     ]
    }
   ],
   "source": [
    "%%time\n",
    "\n",
    "from sklearn.feature_selection import RFECV\n",
    "from sklearn.linear_model import LinearRegression\n",
    "\n",
    "rfe=RFECV(lr)\n",
    "rfe.fit(X_normalized,Y)"
   ]
  },
  {
   "cell_type": "code",
   "execution_count": 102,
   "metadata": {},
   "outputs": [
    {
     "name": "stdout",
     "output_type": "stream",
     "text": [
      "['Ventas', 'Activo_fijo', 'Monto', 'Potencial', 'Macro_sector_', 'Macro_sector_1', 'Macro_sector_2', 'Macro_sector_3', 'Macro_sector_4', 'Macro_sector_5', 'Macro_sector_6', 'Macro_sector_7', 'Macro_sector_8', 'Sector_', 'Sector_0100008', 'Sector_0200006', 'Sector_0300004', 'Sector_0400002', 'Sector_1100007', 'Sector_1200005', 'Sector_1300003', 'Sector_1400001', 'Sector_2000008', 'Sector_2100006', 'Sector_2300002', 'Sector_2400000', 'Sector_2500008', 'Sector_2600006', 'Sector_2700004', 'Sector_2800002', 'Sector_2900000', 'Sector_3000007', 'Sector_3100005', 'Sector_3200003', 'Sector_3300001', 'Sector_3400009', 'Sector_3500007', 'Sector_3600005', 'Sector_3700003', 'Sector_3800001', 'Sector_3900009', 'Sector_4100004', 'Sector_4200002', 'Sector_5000005', 'Sector_6100002', 'Sector_6200000', 'Sector_6300008', 'Sector_6400006', 'Sector_6500004', 'Sector_6600002', 'Sector_6700000', 'Sector_6800001', 'Sector_6800002', 'Sector_6800003', 'Sector_6800008', 'Sector_6800010', 'Sector_6900003', 'Sector_6900006', 'Sector_7100001', 'Sector_7200009', 'Sector_7300007', 'Sector_7400005', 'Sector_7500003', 'Sector_7500004', 'Sector_7500006', 'Sector_7500007', 'Sector_7600001', 'Sector_8100000', 'Sector_8200008', 'Sector_8300006', 'Sector_8400001', 'Sector_8400002', 'Sector_8400003', 'Sector_8400004', 'Sector_8500002', 'Sector_8600000', 'Sector_8700008', 'Sector_8800002', 'Sector_8800003', 'Sector_8800006', 'Sector_8900004', 'Sector_9100009', 'Sector_9200007', 'Sector_9300001', 'Sector_9300005', 'Sector_9400003', 'Sector_9501009', 'Sector_9503005', 'Sector_9504003', 'Sector_9800000', 'Sector_9900909', 'Sector_9999999', 'Subsector_', 'Subsector_00000000', 'Subsector_00010000', 'Subsector_00020000', 'Subsector_00020037', 'Subsector_00030000', 'Subsector_00030016', 'Subsector_00040000', 'Subsector_00040026', 'Subsector_00050011', 'Subsector_0100008-1', 'Subsector_0100008-2', 'Subsector_0200006-1', 'Subsector_0200006-2', 'Subsector_0300004-1', 'Subsector_0300004-2', 'Subsector_0400002-1', 'Subsector_0400002-2', 'Subsector_0400002-3', 'Subsector_1100007-1', 'Subsector_1100007-2', 'Subsector_1200005-1', 'Subsector_1200005-2', 'Subsector_1300003-1', 'Subsector_1300003-2', 'Subsector_1400001-1', 'Subsector_2000008-1', 'Subsector_2000008-2', 'Subsector_2000008-3', 'Subsector_2000008-4', 'Subsector_2100006-1', 'Subsector_2100006-2', 'Subsector_2300002-1', 'Subsector_2300002-2', 'Subsector_2400000-1', 'Subsector_2400000-2', 'Subsector_2500008-1', 'Subsector_2500008-2', 'Subsector_2600006-1', 'Subsector_2600006-2', 'Subsector_2700004-1', 'Subsector_2700004-2', 'Subsector_2800002-1', 'Subsector_2900000-1', 'Subsector_2900000-2', 'Subsector_2900000-3', 'Subsector_3000007-1', 'Subsector_3000007-2', 'Subsector_3100005-1', 'Subsector_3200003-1', 'Subsector_3200003-2', 'Subsector_3200003-3', 'Subsector_3200003-4', 'Subsector_3300001-1', 'Subsector_3300001-2', 'Subsector_3300001-3', 'Subsector_3300001-4', 'Subsector_3400009-1', 'Subsector_3400009-2', 'Subsector_3400009-3', 'Subsector_3500007-1', 'Subsector_3500007-2', 'Subsector_3500007-3', 'Subsector_3600005-1', 'Subsector_3600005-2', 'Subsector_3600005-3', 'Subsector_3700003-1', 'Subsector_3800001-1', 'Subsector_3800001-2', 'Subsector_3900009-1', 'Subsector_3900009-11', 'Subsector_3900009-12', 'Subsector_3900009-2', 'Subsector_3900009-3', 'Subsector_3900009-4', 'Subsector_3900009-5', 'Subsector_3900009-6', 'Subsector_3900009-7', 'Subsector_4100004-1', 'Subsector_4100004-2', 'Subsector_4100004-3', 'Subsector_4200002-1', 'Subsector_4200002-3', 'Subsector_4200002-4', 'Subsector_4200002-5', 'Subsector_4200002-6', 'Subsector_5000005-1', 'Subsector_5000005-4', 'Subsector_6100002-1', 'Subsector_6100002-2', 'Subsector_6100002-3', 'Subsector_6100002-4', 'Subsector_6100002-5', 'Subsector_6200000-1', 'Subsector_6200000-2', 'Subsector_6200000-3', 'Subsector_6200000-4', 'Subsector_6200000-5', 'Subsector_6200000-6', 'Subsector_6300008-1', 'Subsector_6300008-2', 'Subsector_6300008-3', 'Subsector_6400006-1', 'Subsector_6400006-2', 'Subsector_6500004-1', 'Subsector_6600002-1', 'Subsector_6600002-2', 'Subsector_6600002-3', 'Subsector_6600002-4', 'Subsector_6600002-5', 'Subsector_6600002-6', 'Subsector_6600002-7', 'Subsector_6600002-8', 'Subsector_6700000-1', 'Subsector_6700000-2', 'Subsector_6700000-3', 'Subsector_6800001-1', 'Subsector_6800002-1', 'Subsector_6800003-1', 'Subsector_6800008-1', 'Subsector_6800010-1', 'Subsector_6800010-2', 'Subsector_6900003-1', 'Subsector_6900006-1', 'Subsector_6900006-2', 'Subsector_6900006-3', 'Subsector_6900006-4', 'Subsector_7100001-1', 'Subsector_7100001-2', 'Subsector_7100001-3', 'Subsector_7100001-5', 'Subsector_7200009-1', 'Subsector_7300007-1', 'Subsector_7400005-1', 'Subsector_7500003-1', 'Subsector_7500003-2', 'Subsector_7500004-1', 'Subsector_7500006-2', 'Subsector_7500007-2', 'Subsector_7600001-1', 'Subsector_8100000-1', 'Subsector_8100000-10', 'Subsector_8100000-12', 'Subsector_8100000-2', 'Subsector_8100000-3', 'Subsector_8100000-4', 'Subsector_8100000-5', 'Subsector_8100000-7', 'Subsector_8100000-8', 'Subsector_8100000-9', 'Subsector_8200008-1', 'Subsector_8200008-10', 'Subsector_8200008-4', 'Subsector_8200008-5', 'Subsector_8200008-8', 'Subsector_8200008-9', 'Subsector_8300006-1', 'Subsector_8400001-1', 'Subsector_8400002-1', 'Subsector_8400003-1', 'Subsector_8400004-1', 'Subsector_8400004-2', 'Subsector_8400004-3', 'Subsector_8400004-4', 'Subsector_8400004-5', 'Subsector_8400004-6', 'Subsector_8500002-1', 'Subsector_8500002-2', 'Subsector_8600000-1', 'Subsector_8700008-1', 'Subsector_8800002-1', 'Subsector_8800003-1', 'Subsector_8800006-1', 'Subsector_8900004-1', 'Subsector_8900004-2', 'Subsector_8900004-3', 'Subsector_8900004-5', 'Subsector_9100009-1', 'Subsector_9200007-1', 'Subsector_9200007-2', 'Subsector_9200007-3', 'Subsector_9300001-1', 'Subsector_9300005-1', 'Subsector_9400003-1', 'Subsector_9501009-1', 'Subsector_9503005-1', 'Subsector_9504003-1', 'Subsector_9800000-1', 'Subsector_9900909-1', 'Subsector_9999999-1', 'Actividad_', 'Actividad_0111013', 'Actividad_0111063', 'Actividad_0111097', 'Actividad_0111104', 'Actividad_0112029', 'Actividad_0112053', 'Actividad_0112061', 'Actividad_0112079', 'Actividad_0112087', 'Actividad_0112095', 'Actividad_0112128', 'Actividad_0112136', 'Actividad_0112152', 'Actividad_0113019', 'Actividad_0119017', 'Actividad_0119033', 'Actividad_0121012', 'Actividad_0122010', 'Actividad_0124040', 'Actividad_0129024', 'Actividad_0129032', 'Actividad_0131011', 'Actividad_0142018', 'Actividad_0142042', 'Actividad_0142068', 'Actividad_0142084', 'Actividad_0142109', 'Actividad_0143016', 'Actividad_0144030', 'Actividad_0149907', 'Actividad_0211011', 'Actividad_0212019', 'Actividad_0214015', 'Actividad_0219908', 'Actividad_0219916', 'Actividad_0221010', 'Actividad_0231019', 'Actividad_0232017', 'Actividad_0233015', 'Actividad_0259011', 'Actividad_0291013', 'Actividad_0291021', 'Actividad_0311019', 'Actividad_0312017', 'Actividad_0322040', 'Actividad_0329012', 'Actividad_0329905', 'Actividad_0391011', 'Actividad_0411017', 'Actividad_0412015', 'Actividad_0421016', 'Actividad_0422014', 'Actividad_0459025', 'Actividad_0491019', 'Actividad_1111012', 'Actividad_112128', 'Actividad_1211010', 'Actividad_1211028', 'Actividad_1211903', 'Actividad_1211911', 'Actividad_1221019', 'Actividad_1311018', 'Actividad_1321017', 'Actividad_1329011', 'Actividad_1329904', 'Actividad_1330001', 'Actividad_1411016', 'Actividad_1413012', 'Actividad_1419010', 'Actividad_1439018', 'Actividad_2011013', 'Actividad_2012011', 'Actividad_2012029', 'Actividad_2012037', 'Actividad_2013027', 'Actividad_2014017', 'Actividad_2021012', 'Actividad_2022010', 'Actividad_2025014', 'Actividad_2026012', 'Actividad_2028018', 'Actividad_2028026', 'Actividad_2031029', 'Actividad_2033017', 'Actividad_2041010', 'Actividad_2049014', 'Actividad_2049022', 'Actividad_2049030', 'Actividad_2051027', 'Actividad_2052017', 'Actividad_2053015', 'Actividad_2054013', 'Actividad_2059013', 'Actividad_2061018', 'Actividad_2061026', 'Actividad_2071017', 'Actividad_2072015', 'Actividad_2072023', 'Actividad_2072031', 'Actividad_2081016', 'Actividad_2082014', 'Actividad_2084010', 'Actividad_2091015', 'Actividad_2091023', 'Actividad_2093011', 'Actividad_2094019', 'Actividad_2094027', 'Actividad_2096015', 'Actividad_2097013', 'Actividad_2098011', 'Actividad_2098029', 'Actividad_2099019', 'Actividad_2099043', 'Actividad_2099051', 'Actividad_2111011', 'Actividad_2114023', 'Actividad_2122018', 'Actividad_2131027', 'Actividad_2131035', 'Actividad_2131043', 'Actividad_2311017', 'Actividad_2312023', 'Actividad_2312031', 'Actividad_2313021', 'Actividad_2313039', 'Actividad_2316025', 'Actividad_2317031', 'Actividad_2318013', 'Actividad_2319011', 'Actividad_2321016', 'Actividad_2329010', 'Actividad_2392017', 'Actividad_2394021', 'Actividad_2394039', 'Actividad_2411015', 'Actividad_2411023', 'Actividad_2412013', 'Actividad_2412021', 'Actividad_2413011', 'Actividad_2414019', 'Actividad_2416023', 'Actividad_2419027', 'Actividad_2421014', 'Actividad_2429018', 'Actividad_2431013', 'Actividad_2431021', 'Actividad_2433019', 'Actividad_2434017', 'Actividad_2511013', 'Actividad_2512011', 'Actividad_2512029', 'Actividad_2519017', 'Actividad_2521012', 'Actividad_2521020', 'Actividad_2529040', 'Actividad_2529066', 'Actividad_2529107', 'Actividad_2611011', 'Actividad_2611029', 'Actividad_2612019', 'Actividad_2621010', 'Actividad_2632017', 'Actividad_2633015', 'Actividad_2639039', 'Actividad_2711019', 'Actividad_2711027', 'Actividad_2713023', 'Actividad_2811017', 'Actividad_2812015', 'Actividad_2821016', 'Actividad_2822014', 'Actividad_2829010', 'Actividad_2829028', 'Actividad_2911015', 'Actividad_2912005', 'Actividad_2912013', 'Actividad_2921022', 'Actividad_2921048', 'Actividad_2921056', 'Actividad_2921064', 'Actividad_2921072', 'Actividad_2929026', 'Actividad_2929034', 'Actividad_2929042', 'Actividad_2929050', 'Actividad_3011012', 'Actividad_3013018', 'Actividad_3013026', 'Actividad_3021011', 'Actividad_3022019', 'Actividad_3032018', 'Actividad_3041019', 'Actividad_3051026', 'Actividad_3061025', 'Actividad_3062015', 'Actividad_3072022', 'Actividad_3072030', 'Actividad_3091014', 'Actividad_3092020', 'Actividad_3092046', 'Actividad_3096014', 'Actividad_3097038', 'Actividad_3097054', 'Actividad_3099042', 'Actividad_3111010', 'Actividad_3112018', 'Actividad_3113016', 'Actividad_3121019', 'Actividad_3122017', 'Actividad_3211018', 'Actividad_3212016', 'Actividad_3212024', 'Actividad_3219038', 'Actividad_3221017', 'Actividad_3222015', 'Actividad_3223013', 'Actividad_3223021', 'Actividad_3229045', 'Actividad_3229053', 'Actividad_3229061', 'Actividad_3229079', 'Actividad_3319028', 'Actividad_3319044', 'Actividad_3321015', 'Actividad_3322021', 'Actividad_3323029', 'Actividad_3323045', 'Actividad_3329019', 'Actividad_3329035', 'Actividad_3331022', 'Actividad_3331030', 'Actividad_3341013', 'Actividad_3341039', 'Actividad_3342011', 'Actividad_3343019', 'Actividad_3353018', 'Actividad_3354024', 'Actividad_3354909', 'Actividad_3354917', 'Actividad_3411014', 'Actividad_3411022', 'Actividad_3411030', 'Actividad_3411907', 'Actividad_3411915', 'Actividad_3412012', 'Actividad_3412020', 'Actividad_3413010', 'Actividad_3421013', 'Actividad_3422011', 'Actividad_3423019', 'Actividad_3429017', 'Actividad_3511012', 'Actividad_3513026', 'Actividad_3514016', 'Actividad_3515022', 'Actividad_3516038', 'Actividad_3516046', 'Actividad_3516054', 'Actividad_3521037', 'Actividad_3531010', 'Actividad_3531028', 'Actividad_3532026', 'Actividad_3591014', 'Actividad_3591022', 'Actividad_3593010', 'Actividad_3593028', 'Actividad_3593036', 'Actividad_3595016', 'Actividad_3595040', 'Actividad_3596014', 'Actividad_3596022', 'Actividad_3599018', 'Actividad_3599084', 'Actividad_3599092', 'Actividad_3599117', 'Actividad_3599133', 'Actividad_3611010', 'Actividad_3611028', 'Actividad_3621019', 'Actividad_3621027', 'Actividad_3631018', 'Actividad_3632016', 'Actividad_3639905', 'Actividad_3639913', 'Actividad_3641025', 'Actividad_3692010', 'Actividad_3693018', 'Actividad_3694016', 'Actividad_3694024', 'Actividad_3695014', 'Actividad_3697010', 'Actividad_3699016', 'Actividad_3699024', 'Actividad_3699032', 'Actividad_3711018', 'Actividad_3723013', 'Actividad_3729011', 'Actividad_3731016', 'Actividad_3731024', 'Actividad_3793016', 'Actividad_3793024', 'Actividad_3793032', 'Actividad_3799014', 'Actividad_3811016', 'Actividad_3812014', 'Actividad_3815018', 'Actividad_3816016', 'Actividad_3819010', 'Actividad_3831014', 'Actividad_3831022', 'Actividad_3832012', 'Actividad_3912012', 'Actividad_3921013', 'Actividad_3941029', 'Actividad_3951010', 'Actividad_3951036', 'Actividad_3961019', 'Actividad_3961027', 'Actividad_3961043', 'Actividad_3962017', 'Actividad_3962025', 'Actividad_3994010', 'Actividad_3999101', 'Actividad_3999119', 'Actividad_3999903', 'Actividad_4111019', 'Actividad_4111027', 'Actividad_4111035', 'Actividad_4111051', 'Actividad_4111910', 'Actividad_4111928', 'Actividad_4111936', 'Actividad_4111944', 'Actividad_4111952', 'Actividad_4112017', 'Actividad_4113015', 'Actividad_4121018', 'Actividad_4121026', 'Actividad_4121034', 'Actividad_4122016', 'Actividad_4123014', 'Actividad_4129012', 'Actividad_4192019', 'Actividad_4193017', 'Actividad_4194015', 'Actividad_4199015', 'Actividad_4199908', 'Actividad_4199916', 'Actividad_4211017', 'Actividad_4219011', 'Actividad_4221016', 'Actividad_4222014', 'Actividad_4229010', 'Actividad_4291019', 'Actividad_4293015', 'Actividad_4299013', 'Actividad_5011010', 'Actividad_5011903', 'Actividad_5100003', 'Actividad_5111018', 'Actividad_6111017', 'Actividad_6112015', 'Actividad_6112023', 'Actividad_6113013', 'Actividad_6114011', 'Actividad_6119011', 'Actividad_6121024', 'Actividad_6122014', 'Actividad_6123012', 'Actividad_6124010', 'Actividad_6125018', 'Actividad_6126024', 'Actividad_6126032', 'Actividad_6131015', 'Actividad_6131023', 'Actividad_6132013', 'Actividad_6132021', 'Actividad_6132039', 'Actividad_6132047', 'Actividad_6132055', 'Actividad_6132071', 'Actividad_6133011', 'Actividad_6134019', 'Actividad_6135017', 'Actividad_6136023', 'Actividad_6139027', 'Actividad_6211015', 'Actividad_6211023', 'Actividad_6212013', 'Actividad_6213011', 'Actividad_6215017', 'Actividad_6216023', 'Actividad_6216031', 'Actividad_6221014', 'Actividad_6222012', 'Actividad_6223010', 'Actividad_6224018', 'Actividad_6225024', 'Actividad_6226022', 'Actividad_6227012', 'Actividad_6229018', 'Actividad_6231013', 'Actividad_6231021', 'Actividad_6232011', 'Actividad_6233019', 'Actividad_6239017', 'Actividad_6311013', 'Actividad_6311021', 'Actividad_6311039', 'Actividad_6312011', 'Actividad_6313019', 'Actividad_6314017', 'Actividad_6321012', 'Actividad_6323018', 'Actividad_6325030', 'Actividad_6325048', 'Actividad_6329016', 'Actividad_6411011', 'Actividad_6412019', 'Actividad_6419015', 'Actividad_6511019', 'Actividad_6512017', 'Actividad_6513015', 'Actividad_6514013', 'Actividad_6515011', 'Actividad_6611017', 'Actividad_6612015', 'Actividad_6613013', 'Actividad_6619037', 'Actividad_6619045', 'Actividad_6621016', 'Actividad_6622014', 'Actividad_6622022', 'Actividad_6623012', 'Actividad_6623020', 'Actividad_6624010', 'Actividad_6625018', 'Actividad_6626024', 'Actividad_6626032', 'Actividad_6627014', 'Actividad_6628012', 'Actividad_6629010', 'Actividad_6691019', 'Actividad_6693015', 'Actividad_6694013', 'Actividad_6695011', 'Actividad_6699021', 'Actividad_6699039', 'Actividad_6699047', 'Actividad_6711015', 'Actividad_6712013', 'Actividad_6713011', 'Actividad_6714019', 'Actividad_6714027', 'Actividad_6714035', 'Actividad_6719019', 'Actividad_6721014', 'Actividad_6721022', 'Actividad_6721036', 'Actividad_6722012', 'Actividad_6729018', 'Actividad_6729034', 'Actividad_6731013', 'Actividad_6732011', 'Actividad_6732037', 'Actividad_6732045', 'Actividad_6739017', 'Actividad_6800001', 'Actividad_6800002', 'Actividad_6800003', 'Actividad_6800008', 'Actividad_6811013', 'Actividad_6812011', 'Actividad_6813019', 'Actividad_6813027', 'Actividad_6814017', 'Actividad_6815015', 'Actividad_6816013', 'Actividad_6819017', 'Actividad_6819025', 'Actividad_6900003', 'Actividad_6911029', 'Actividad_6911045', 'Actividad_6911053', 'Actividad_6911079', 'Actividad_6911095', 'Actividad_6992011', 'Actividad_6993019', 'Actividad_6999017', 'Actividad_6999025', 'Actividad_6999041', 'Actividad_6999075', 'Actividad_6999083', 'Actividad_6999108', 'Actividad_6999124', 'Actividad_6999132', 'Actividad_6999166', 'Actividad_6999174', 'Actividad_6999900', 'Actividad_6999992', 'Actividad_7111016', 'Actividad_7112014', 'Actividad_7114010', 'Actividad_7119010', 'Actividad_7121015', 'Actividad_7122013', 'Actividad_7123011', 'Actividad_7129019', 'Actividad_7129902', 'Actividad_7211014', 'Actividad_7212012', 'Actividad_7291016', 'Actividad_7299010', 'Actividad_7311012', 'Actividad_7312010', 'Actividad_7411010', 'Actividad_7412018', 'Actividad_7413016', 'Actividad_7414014', 'Actividad_7511018', 'Actividad_7512016', 'Actividad_7513014', 'Actividad_7514012', 'Actividad_7519020', 'Actividad_7519038', 'Actividad_7611016', 'Actividad_7613004', 'Actividad_7613012', 'Actividad_7613905', 'Actividad_7614010', 'Actividad_8114019', 'Actividad_8123010', 'Actividad_8123044', 'Actividad_8123052', 'Actividad_8123078', 'Actividad_8123086', 'Actividad_8123094', 'Actividad_8131021', 'Actividad_8133027', 'Actividad_8133035', 'Actividad_8142010', 'Actividad_8151011', 'Actividad_8151029', 'Actividad_8211013', 'Actividad_8211021', 'Actividad_8219017', 'Actividad_8219067', 'Actividad_8219083', 'Actividad_8219091', 'Actividad_8219108', 'Actividad_8219114', 'Actividad_8219122', 'Actividad_8311011', 'Actividad_8312019', 'Actividad_8313017', 'Actividad_8314015', 'Actividad_8400001', 'Actividad_8400002', 'Actividad_8400003', 'Actividad_8411019', 'Actividad_8412017', 'Actividad_8413015', 'Actividad_8414013', 'Actividad_8415011', 'Actividad_8419013', 'Actividad_8421018', 'Actividad_8422016', 'Actividad_8424012', 'Actividad_8425010', 'Actividad_8426018', 'Actividad_8426026', 'Actividad_8427016', 'Actividad_8428014', 'Actividad_8429012', 'Actividad_8429020', 'Actividad_8429038', 'Actividad_8429046', 'Actividad_8511017', 'Actividad_8511033', 'Actividad_8512015', 'Actividad_8519011', 'Actividad_8521016', 'Actividad_8522014', 'Actividad_8523012', 'Actividad_8524010', 'Actividad_8611015', 'Actividad_8612013', 'Actividad_8711013', 'Actividad_8711021', 'Actividad_8712011', 'Actividad_8713019', 'Actividad_8714017', 'Actividad_8719017', 'Actividad_8721012', 'Actividad_8723026', 'Actividad_8800002', 'Actividad_8800003', 'Actividad_8811011', 'Actividad_8813017', 'Actividad_8814015', 'Actividad_8819015', 'Actividad_8821044', 'Actividad_8823016', 'Actividad_8824014', 'Actividad_8825012', 'Actividad_8826010', 'Actividad_8827018', 'Actividad_8829014', 'Actividad_8829022', 'Actividad_8829048', 'Actividad_8831019', 'Actividad_8833015', 'Actividad_8839013', 'Actividad_8839906', 'Actividad_8839914', 'Actividad_8911019', 'Actividad_8913015', 'Actividad_8915011', 'Actividad_8922016', 'Actividad_8931017', 'Actividad_8933013', 'Actividad_8934011', 'Actividad_8934029', 'Actividad_8935019', 'Actividad_8936017', 'Actividad_8939011', 'Actividad_8941016', 'Actividad_8942014', 'Actividad_8943012', 'Actividad_8944028', 'Actividad_8944098', 'Actividad_8949888', 'Actividad_8949903', 'Actividad_8991011', 'Actividad_9112012', 'Actividad_9115016', 'Actividad_9119018', 'Actividad_9121013', 'Actividad_9191016', 'Actividad_9199010', 'Actividad_9211012', 'Actividad_9212010', 'Actividad_9213018', 'Actividad_9214016', 'Actividad_9219016', 'Actividad_9221011', 'Actividad_9231010', 'Actividad_9231028', 'Actividad_9300001', 'Actividad_9311010', 'Actividad_9311028', 'Actividad_9312018', 'Actividad_9319014', 'Actividad_9321019', 'Actividad_9322017', 'Actividad_9411018', 'Actividad_9411026', 'Actividad_9411034', 'Actividad_9411886', 'Actividad_9411901', 'Actividad_9471012', 'Actividad_9501009', 'Actividad_9503005', 'Actividad_9504003', 'Actividad_9800100', 'Actividad_9800117', 'Actividad_9800211', 'Actividad_9900909', 'Actividad_9999999']\n"
     ]
    }
   ],
   "source": [
    "best_variables=[]\n",
    "\n",
    "for a, b in zip(X_normalized.columns.values.tolist(), rfe.support_):\n",
    "    if (b==True):\n",
    "        best_variables.append(a)\n",
    "        \n",
    "print(best_variables)        "
   ]
  },
  {
   "cell_type": "markdown",
   "metadata": {},
   "source": [
    "## Guardar Modelo"
   ]
  },
  {
   "cell_type": "code",
   "execution_count": 398,
   "metadata": {},
   "outputs": [],
   "source": [
    "import pickle\n",
    "\n",
    "filename = 'credito2_knn_avar.sav'\n",
    "pickle.dump(forest, open(filename, 'wb'))"
   ]
  },
  {
   "cell_type": "markdown",
   "metadata": {},
   "source": [
    "## Cargar Modelo"
   ]
  },
  {
   "cell_type": "code",
   "execution_count": 437,
   "metadata": {},
   "outputs": [],
   "source": [
    "import pickle\n",
    "\n",
    "filename = 'credito1_forest_avar.sav'\n",
    "\n",
    "model = pickle.load(open(filename, 'rb'))\n",
    "\n",
    "score=model.score(X_test,Y_test)\n",
    "\n",
    "predict=model.predict(X_test)\n",
    "\n",
    "error = sqrt(mean_squared_error(Y_test,predict))"
   ]
  },
  {
   "cell_type": "code",
   "execution_count": 435,
   "metadata": {},
   "outputs": [
    {
     "name": "stdout",
     "output_type": "stream",
     "text": [
      "Score -0.6963398581210996\n",
      "Error 45348599.95318206\n",
      "[(46321416.10306225, 9070580.2), (6088117.202465617, 1000000.0), (2546637.5255748536, 5000000.0), (14022063.647354279, 7500000.0), (8945000.000000002, 25000000.0)]\n"
     ]
    }
   ],
   "source": [
    "print('Score',score)\n",
    "print('Error',error)\n",
    "print(list(zip(predict, Y_test))[:5])"
   ]
  }
 ],
 "metadata": {
  "kernelspec": {
   "display_name": "Python 3",
   "language": "python",
   "name": "python3"
  },
  "language_info": {
   "codemirror_mode": {
    "name": "ipython",
    "version": 3
   },
   "file_extension": ".py",
   "mimetype": "text/x-python",
   "name": "python",
   "nbconvert_exporter": "python",
   "pygments_lexer": "ipython3",
   "version": "3.7.2"
  }
 },
 "nbformat": 4,
 "nbformat_minor": 2
}
