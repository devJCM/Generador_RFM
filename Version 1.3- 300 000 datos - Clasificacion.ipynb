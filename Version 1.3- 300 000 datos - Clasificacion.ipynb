{
 "cells": [
  {
   "cell_type": "markdown",
   "metadata": {},
   "source": [
    "# Prueba con 300 000 datos- Clasificacion"
   ]
  },
  {
   "cell_type": "code",
   "execution_count": 8,
   "metadata": {},
   "outputs": [],
   "source": [
    "import time\n",
    "import pandas as pd\n",
    "import numpy as np\n",
    "import pymysql\n",
    "\n",
    "from sklearn.model_selection import train_test_split\n",
    "from sklearn.feature_selection import RFE\n",
    "from sklearn.svm import SVR\n",
    "from sklearn.tree import DecisionTreeClassifier\n",
    "\n",
    "\n",
    "from generadorRFM import setRFM"
   ]
  },
  {
   "cell_type": "code",
   "execution_count": 12,
   "metadata": {
    "scrolled": true
   },
   "outputs": [
    {
     "name": "stdout",
     "output_type": "stream",
     "text": [
      "El numero de filas de este dataset es de:311934\n"
     ]
    }
   ],
   "source": [
    "host='localhost'\n",
    "db='RFM_Generator'\n",
    "user_db='root'\n",
    "pass_db=''\n",
    "table='rfm_unifin2'\n",
    "\n",
    "try:\n",
    "    conn=pymysql.connect(host=host, user=user_db, passwd=pass_db, db=db)\n",
    "\n",
    "    cur=conn.cursor()\n",
    "\n",
    "    query=\"SELECT Recencia,Tickets,Monto,R,F,M,Categoria FROM \"+table+\";\"\n",
    "\n",
    "    cur.execute(query)\n",
    "\n",
    "    res = cur.fetchall()\n",
    "\n",
    "    cur.close()\n",
    "\n",
    "    conn.close()\n",
    "\n",
    "except pymysql.Error as e:\n",
    "    print (\"Error %d: %s\" % (e.args[0], e.args[1]))\n",
    "\n",
    "else:\n",
    "    if(len(res)==0):\n",
    "        print (\"No hay registros para iniciar el proceso.\")\n",
    "    else:\n",
    "        headers=['Recencia','Tickets','Monto','R','F','M','Categoria']\n",
    "        recencia=headers[0]\n",
    "\n",
    "        dataset_dummy={}\n",
    "        filas=0\n",
    "\n",
    "        for h in headers:\n",
    "            dataset_dummy[h]=[]\n",
    "\n",
    "        for r in res:\n",
    "            filas+=1\n",
    "            for i in range(len(headers)):\n",
    "                dataset_dummy[headers[i]].append(r[i])\n",
    "\n",
    "        print('El numero de filas de este dataset es de:'+str(filas))\n",
    "\n",
    "        dataset=pd.DataFrame(dataset_dummy)\n",
    "\n",
    "        dataset[recencia]=dataset[recencia].astype(str).str.replace('\\D', '')\n",
    "        dataset[recencia]=dataset[recencia].astype(str).astype(int)\n"
   ]
  },
  {
   "cell_type": "code",
   "execution_count": 13,
   "metadata": {
    "scrolled": false
   },
   "outputs": [
    {
     "data": {
      "text/html": [
       "<div>\n",
       "<style scoped>\n",
       "    .dataframe tbody tr th:only-of-type {\n",
       "        vertical-align: middle;\n",
       "    }\n",
       "\n",
       "    .dataframe tbody tr th {\n",
       "        vertical-align: top;\n",
       "    }\n",
       "\n",
       "    .dataframe thead th {\n",
       "        text-align: right;\n",
       "    }\n",
       "</style>\n",
       "<table border=\"1\" class=\"dataframe\">\n",
       "  <thead>\n",
       "    <tr style=\"text-align: right;\">\n",
       "      <th></th>\n",
       "      <th>Recencia</th>\n",
       "      <th>Tickets</th>\n",
       "      <th>Monto</th>\n",
       "      <th>R</th>\n",
       "      <th>F</th>\n",
       "      <th>M</th>\n",
       "      <th>Categoria</th>\n",
       "    </tr>\n",
       "  </thead>\n",
       "  <tbody>\n",
       "    <tr>\n",
       "      <th>0</th>\n",
       "      <td>20130818022547</td>\n",
       "      <td>204</td>\n",
       "      <td>24.47</td>\n",
       "      <td>3</td>\n",
       "      <td>2</td>\n",
       "      <td>2</td>\n",
       "      <td>plata</td>\n",
       "    </tr>\n",
       "    <tr>\n",
       "      <th>1</th>\n",
       "      <td>20131221180047</td>\n",
       "      <td>168</td>\n",
       "      <td>83.55</td>\n",
       "      <td>4</td>\n",
       "      <td>2</td>\n",
       "      <td>5</td>\n",
       "      <td>oro</td>\n",
       "    </tr>\n",
       "    <tr>\n",
       "      <th>2</th>\n",
       "      <td>20131021072703</td>\n",
       "      <td>385</td>\n",
       "      <td>23.09</td>\n",
       "      <td>4</td>\n",
       "      <td>4</td>\n",
       "      <td>2</td>\n",
       "      <td>plata</td>\n",
       "    </tr>\n",
       "    <tr>\n",
       "      <th>3</th>\n",
       "      <td>20130112014342</td>\n",
       "      <td>273</td>\n",
       "      <td>91.73</td>\n",
       "      <td>1</td>\n",
       "      <td>3</td>\n",
       "      <td>5</td>\n",
       "      <td>oro</td>\n",
       "    </tr>\n",
       "    <tr>\n",
       "      <th>4</th>\n",
       "      <td>20130923090706</td>\n",
       "      <td>300</td>\n",
       "      <td>14.70</td>\n",
       "      <td>3</td>\n",
       "      <td>3</td>\n",
       "      <td>1</td>\n",
       "      <td>bronce</td>\n",
       "    </tr>\n",
       "  </tbody>\n",
       "</table>\n",
       "</div>"
      ],
      "text/plain": [
       "         Recencia  Tickets  Monto  R  F  M Categoria\n",
       "0  20130818022547      204  24.47  3  2  2     plata\n",
       "1  20131221180047      168  83.55  4  2  5       oro\n",
       "2  20131021072703      385  23.09  4  4  2     plata\n",
       "3  20130112014342      273  91.73  1  3  5       oro\n",
       "4  20130923090706      300  14.70  3  3  1    bronce"
      ]
     },
     "execution_count": 13,
     "metadata": {},
     "output_type": "execute_result"
    }
   ],
   "source": [
    "dataset.head()"
   ]
  },
  {
   "cell_type": "code",
   "execution_count": 14,
   "metadata": {},
   "outputs": [],
   "source": [
    "train,test=train_test_split(dataset,test_size=.25)"
   ]
  },
  {
   "cell_type": "code",
   "execution_count": 19,
   "metadata": {},
   "outputs": [],
   "source": [
    "train_predictors=train[['Recencia','Tickets','Monto']]\n",
    "train_R=train[['R']]\n",
    "train_F=train[['F']]\n",
    "train_M=train[['M']]\n",
    "\n",
    "test_predictors=test[['Recencia','Tickets','Monto']]\n",
    "test_R=test[['R']]\n",
    "test_F=test[['F']]\n",
    "test_M=test[['M']]"
   ]
  },
  {
   "cell_type": "code",
   "execution_count": null,
   "metadata": {},
   "outputs": [],
   "source": [
    "estimador=SVR(kernel='linear')\n",
    "for i in range(1,len(predictors.columns.values)+1)\n",
    "    selector=RFE(estimador,i,step=1) #El 2 representa el numero de variables que queremos para el modelo predictivo\n",
    "    selector=selector.fit(train_predictors,train_R)"
   ]
  }
 ],
 "metadata": {
  "kernelspec": {
   "display_name": "Python 3",
   "language": "python",
   "name": "python3"
  },
  "language_info": {
   "codemirror_mode": {
    "name": "ipython",
    "version": 3
   },
   "file_extension": ".py",
   "mimetype": "text/x-python",
   "name": "python",
   "nbconvert_exporter": "python",
   "pygments_lexer": "ipython3",
   "version": "3.7.2"
  }
 },
 "nbformat": 4,
 "nbformat_minor": 2
}
