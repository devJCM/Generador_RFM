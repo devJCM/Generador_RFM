{
 "cells": [
  {
   "cell_type": "code",
   "execution_count": 577,
   "metadata": {},
   "outputs": [],
   "source": [
    "import pymysql\n",
    "import pandas as pd\n",
    "import numpy as np"
   ]
  },
  {
   "cell_type": "code",
   "execution_count": 578,
   "metadata": {},
   "outputs": [
    {
     "name": "stdout",
     "output_type": "stream",
     "text": [
      "El numero de filas de este dataset es de:30064\n",
      "(30064, 3)\n",
      "id                  object\n",
      "Fecha       datetime64[ns]\n",
      "Vigencia            object\n",
      "dtype: object\n"
     ]
    }
   ],
   "source": [
    "try:\n",
    "    conn=pymysql.connect(host='localhost', user='root', passwd='', db='unifin')\n",
    "    cur=conn.cursor()\n",
    "    query=\"select a.id_c,op.date_entered,op2.vigencialinea_c FROM accounts_cstm a,opportunities op,opportunities_cstm op2,accounts_opportunities ao WHERE a.id_c=ao.account_id AND op2.id_c=ao.opportunity_id and op2.id_c=op.id and op.deleted=0;\"\n",
    "    cur.execute(query)\n",
    "    res = cur.fetchall()\n",
    "    cur.close()\n",
    "    conn.close()\n",
    "    \n",
    "except pymysql.Error as e:\n",
    "    msj= (\"Error %d: %s\" % (e.args[0], e.args[1]))\n",
    "    print(msj)\n",
    "else:\n",
    "    headers=['id','Fecha','Vigencia']\n",
    "    dataset_dummy={}\n",
    "    filas=0\n",
    "\n",
    "    for h in headers:\n",
    "        dataset_dummy[h]=[]\n",
    "\n",
    "    if(len(res)>0):\n",
    "        for r in res:\n",
    "            filas+=1\n",
    "            for i in range(len(headers)):\n",
    "                dataset_dummy[headers[i]].append(r[i])\n",
    "\n",
    "    print('El numero de filas de este dataset es de:'+str(filas))\n",
    "\n",
    "    df1=pd.DataFrame(dataset_dummy) \n",
    "    print(df1.shape)\n",
    "\n",
    "    print(df1.dtypes)"
   ]
  },
  {
   "cell_type": "markdown",
   "metadata": {},
   "source": [
    "## Se crea columna de frecuencia"
   ]
  },
  {
   "cell_type": "code",
   "execution_count": 579,
   "metadata": {},
   "outputs": [
    {
     "data": {
      "text/html": [
       "<div>\n",
       "<style scoped>\n",
       "    .dataframe tbody tr th:only-of-type {\n",
       "        vertical-align: middle;\n",
       "    }\n",
       "\n",
       "    .dataframe tbody tr th {\n",
       "        vertical-align: top;\n",
       "    }\n",
       "\n",
       "    .dataframe thead th {\n",
       "        text-align: right;\n",
       "    }\n",
       "</style>\n",
       "<table border=\"1\" class=\"dataframe\">\n",
       "  <thead>\n",
       "    <tr style=\"text-align: right;\">\n",
       "      <th></th>\n",
       "      <th>Frecuencia</th>\n",
       "    </tr>\n",
       "    <tr>\n",
       "      <th>id</th>\n",
       "      <th></th>\n",
       "    </tr>\n",
       "  </thead>\n",
       "  <tbody>\n",
       "    <tr>\n",
       "      <th>0006f043-b037-4d15-a48a-06f0f26a2869</th>\n",
       "      <td>1</td>\n",
       "    </tr>\n",
       "    <tr>\n",
       "      <th>000f58b7-a684-44c9-94c9-3437627f90f1</th>\n",
       "      <td>2</td>\n",
       "    </tr>\n",
       "    <tr>\n",
       "      <th>001b6d7c-97ad-4ff8-9475-37a8fc1f7582</th>\n",
       "      <td>1</td>\n",
       "    </tr>\n",
       "    <tr>\n",
       "      <th>001d6010-634b-484e-b752-6479de28ea47</th>\n",
       "      <td>2</td>\n",
       "    </tr>\n",
       "    <tr>\n",
       "      <th>00205105-2810-4e84-b0e6-aad0abd2a1e0</th>\n",
       "      <td>1</td>\n",
       "    </tr>\n",
       "  </tbody>\n",
       "</table>\n",
       "</div>"
      ],
      "text/plain": [
       "                                      Frecuencia\n",
       "id                                              \n",
       "0006f043-b037-4d15-a48a-06f0f26a2869           1\n",
       "000f58b7-a684-44c9-94c9-3437627f90f1           2\n",
       "001b6d7c-97ad-4ff8-9475-37a8fc1f7582           1\n",
       "001d6010-634b-484e-b752-6479de28ea47           2\n",
       "00205105-2810-4e84-b0e6-aad0abd2a1e0           1"
      ]
     },
     "execution_count": 579,
     "metadata": {},
     "output_type": "execute_result"
    }
   ],
   "source": [
    "df2=df1.groupby('id').count()\n",
    "df2=df2.drop(['Fecha'],axis=1)\n",
    "df2= df2.rename(columns={'Vigencia': 'Frecuencia'})\n",
    "df2.head()"
   ]
  },
  {
   "cell_type": "markdown",
   "metadata": {},
   "source": [
    "## Se añade columna de frecuencia"
   ]
  },
  {
   "cell_type": "code",
   "execution_count": 580,
   "metadata": {},
   "outputs": [
    {
     "data": {
      "text/html": [
       "<div>\n",
       "<style scoped>\n",
       "    .dataframe tbody tr th:only-of-type {\n",
       "        vertical-align: middle;\n",
       "    }\n",
       "\n",
       "    .dataframe tbody tr th {\n",
       "        vertical-align: top;\n",
       "    }\n",
       "\n",
       "    .dataframe thead th {\n",
       "        text-align: right;\n",
       "    }\n",
       "</style>\n",
       "<table border=\"1\" class=\"dataframe\">\n",
       "  <thead>\n",
       "    <tr style=\"text-align: right;\">\n",
       "      <th></th>\n",
       "      <th>id</th>\n",
       "      <th>Fecha</th>\n",
       "      <th>Vigencia</th>\n",
       "      <th>Frecuencia</th>\n",
       "    </tr>\n",
       "  </thead>\n",
       "  <tbody>\n",
       "    <tr>\n",
       "      <th>0</th>\n",
       "      <td>e45d4e71-22c6-421d-85ec-77ecaead04e9</td>\n",
       "      <td>2015-07-31</td>\n",
       "      <td>0000-00-00</td>\n",
       "      <td>780</td>\n",
       "    </tr>\n",
       "    <tr>\n",
       "      <th>1</th>\n",
       "      <td>e45d4e71-22c6-421d-85ec-77ecaead04e9</td>\n",
       "      <td>2012-02-21</td>\n",
       "      <td>0000-00-00</td>\n",
       "      <td>780</td>\n",
       "    </tr>\n",
       "    <tr>\n",
       "      <th>2</th>\n",
       "      <td>e45d4e71-22c6-421d-85ec-77ecaead04e9</td>\n",
       "      <td>2013-06-13</td>\n",
       "      <td>0000-00-00</td>\n",
       "      <td>780</td>\n",
       "    </tr>\n",
       "    <tr>\n",
       "      <th>3</th>\n",
       "      <td>e45d4e71-22c6-421d-85ec-77ecaead04e9</td>\n",
       "      <td>2014-11-07</td>\n",
       "      <td>0000-00-00</td>\n",
       "      <td>780</td>\n",
       "    </tr>\n",
       "    <tr>\n",
       "      <th>4</th>\n",
       "      <td>e45d4e71-22c6-421d-85ec-77ecaead04e9</td>\n",
       "      <td>2015-08-14</td>\n",
       "      <td>0000-00-00</td>\n",
       "      <td>780</td>\n",
       "    </tr>\n",
       "  </tbody>\n",
       "</table>\n",
       "</div>"
      ],
      "text/plain": [
       "                                     id      Fecha    Vigencia  Frecuencia\n",
       "0  e45d4e71-22c6-421d-85ec-77ecaead04e9 2015-07-31  0000-00-00         780\n",
       "1  e45d4e71-22c6-421d-85ec-77ecaead04e9 2012-02-21  0000-00-00         780\n",
       "2  e45d4e71-22c6-421d-85ec-77ecaead04e9 2013-06-13  0000-00-00         780\n",
       "3  e45d4e71-22c6-421d-85ec-77ecaead04e9 2014-11-07  0000-00-00         780\n",
       "4  e45d4e71-22c6-421d-85ec-77ecaead04e9 2015-08-14  0000-00-00         780"
      ]
     },
     "execution_count": 580,
     "metadata": {},
     "output_type": "execute_result"
    }
   ],
   "source": [
    "df3=df1.merge(df2,on=['id'])\n",
    "df3.head()    "
   ]
  },
  {
   "cell_type": "markdown",
   "metadata": {},
   "source": [
    "## Se convierte fecha a timestamp"
   ]
  },
  {
   "cell_type": "code",
   "execution_count": 555,
   "metadata": {},
   "outputs": [
    {
     "name": "stdout",
     "output_type": "stream",
     "text": [
      "id                    object\n",
      "Fecha         datetime64[ns]\n",
      "Producto              object\n",
      "Frecuencia             int64\n",
      "ts                     int64\n",
      "dtype: object\n"
     ]
    },
    {
     "data": {
      "text/html": [
       "<div>\n",
       "<style scoped>\n",
       "    .dataframe tbody tr th:only-of-type {\n",
       "        vertical-align: middle;\n",
       "    }\n",
       "\n",
       "    .dataframe tbody tr th {\n",
       "        vertical-align: top;\n",
       "    }\n",
       "\n",
       "    .dataframe thead th {\n",
       "        text-align: right;\n",
       "    }\n",
       "</style>\n",
       "<table border=\"1\" class=\"dataframe\">\n",
       "  <thead>\n",
       "    <tr style=\"text-align: right;\">\n",
       "      <th></th>\n",
       "      <th>id</th>\n",
       "      <th>Fecha</th>\n",
       "      <th>Producto</th>\n",
       "      <th>Frecuencia</th>\n",
       "      <th>ts</th>\n",
       "    </tr>\n",
       "  </thead>\n",
       "  <tbody>\n",
       "    <tr>\n",
       "      <th>0</th>\n",
       "      <td>b9d12fcc-5280-4a87-838f-672d00e70088</td>\n",
       "      <td>1999-05-15</td>\n",
       "      <td>1</td>\n",
       "      <td>1</td>\n",
       "      <td>926726400</td>\n",
       "    </tr>\n",
       "    <tr>\n",
       "      <th>1</th>\n",
       "      <td>1c10b761-1dec-4112-980e-8886c8edab63</td>\n",
       "      <td>1999-10-15</td>\n",
       "      <td>1</td>\n",
       "      <td>1</td>\n",
       "      <td>939945600</td>\n",
       "    </tr>\n",
       "    <tr>\n",
       "      <th>2</th>\n",
       "      <td>0035ce7c-fd31-4c02-af7a-92d80a6e10e2</td>\n",
       "      <td>2000-01-15</td>\n",
       "      <td>1</td>\n",
       "      <td>1</td>\n",
       "      <td>947894400</td>\n",
       "    </tr>\n",
       "    <tr>\n",
       "      <th>3</th>\n",
       "      <td>17fd62b4-983c-495d-9d22-70b914d89774</td>\n",
       "      <td>2000-06-25</td>\n",
       "      <td>1</td>\n",
       "      <td>1</td>\n",
       "      <td>961891200</td>\n",
       "    </tr>\n",
       "    <tr>\n",
       "      <th>4</th>\n",
       "      <td>6302a99f-85ab-4954-95cc-b21561ff89f4</td>\n",
       "      <td>2000-08-01</td>\n",
       "      <td>1</td>\n",
       "      <td>1</td>\n",
       "      <td>965088000</td>\n",
       "    </tr>\n",
       "  </tbody>\n",
       "</table>\n",
       "</div>"
      ],
      "text/plain": [
       "                                     id      Fecha Producto  Frecuencia  \\\n",
       "0  b9d12fcc-5280-4a87-838f-672d00e70088 1999-05-15        1           1   \n",
       "1  1c10b761-1dec-4112-980e-8886c8edab63 1999-10-15        1           1   \n",
       "2  0035ce7c-fd31-4c02-af7a-92d80a6e10e2 2000-01-15        1           1   \n",
       "3  17fd62b4-983c-495d-9d22-70b914d89774 2000-06-25        1           1   \n",
       "4  6302a99f-85ab-4954-95cc-b21561ff89f4 2000-08-01        1           1   \n",
       "\n",
       "          ts  \n",
       "0  926726400  \n",
       "1  939945600  \n",
       "2  947894400  \n",
       "3  961891200  \n",
       "4  965088000  "
      ]
     },
     "execution_count": 555,
     "metadata": {},
     "output_type": "execute_result"
    }
   ],
   "source": [
    "df3['ts'] = df3.Fecha.values.astype(np.int64) // 10 ** 9\n",
    "print(df3.dtypes)\n",
    "df3.head()"
   ]
  },
  {
   "cell_type": "markdown",
   "metadata": {},
   "source": [
    "## Se filtran ids con frecuencia=2"
   ]
  },
  {
   "cell_type": "code",
   "execution_count": 556,
   "metadata": {},
   "outputs": [
    {
     "data": {
      "text/plain": [
       "id                    object\n",
       "Fecha         datetime64[ns]\n",
       "Producto              object\n",
       "Frecuencia             int64\n",
       "ts                     int64\n",
       "dtype: object"
      ]
     },
     "execution_count": 556,
     "metadata": {},
     "output_type": "execute_result"
    }
   ],
   "source": [
    "df4=df3[df3['Frecuencia']==2]\n",
    "df4.dtypes"
   ]
  },
  {
   "cell_type": "markdown",
   "metadata": {},
   "source": [
    "## Se crea nuevo df separando fechas 1 y 2"
   ]
  },
  {
   "cell_type": "code",
   "execution_count": 557,
   "metadata": {},
   "outputs": [
    {
     "name": "stdout",
     "output_type": "stream",
     "text": [
      "(6428, 5)\n"
     ]
    },
    {
     "data": {
      "text/html": [
       "<div>\n",
       "<style scoped>\n",
       "    .dataframe tbody tr th:only-of-type {\n",
       "        vertical-align: middle;\n",
       "    }\n",
       "\n",
       "    .dataframe tbody tr th {\n",
       "        vertical-align: top;\n",
       "    }\n",
       "\n",
       "    .dataframe thead th {\n",
       "        text-align: right;\n",
       "    }\n",
       "</style>\n",
       "<table border=\"1\" class=\"dataframe\">\n",
       "  <thead>\n",
       "    <tr style=\"text-align: right;\">\n",
       "      <th></th>\n",
       "      <th>id</th>\n",
       "      <th>Fecha</th>\n",
       "      <th>Producto</th>\n",
       "      <th>Frecuencia</th>\n",
       "      <th>ts</th>\n",
       "    </tr>\n",
       "  </thead>\n",
       "  <tbody>\n",
       "    <tr>\n",
       "      <th>0</th>\n",
       "      <td>000f58b7-a684-44c9-94c9-3437627f90f1</td>\n",
       "      <td>2015-07-21 00:00:00</td>\n",
       "      <td>1</td>\n",
       "      <td>2</td>\n",
       "      <td>1437436800</td>\n",
       "    </tr>\n",
       "    <tr>\n",
       "      <th>1</th>\n",
       "      <td>000f58b7-a684-44c9-94c9-3437627f90f1</td>\n",
       "      <td>2017-08-25 00:11:04</td>\n",
       "      <td>1</td>\n",
       "      <td>2</td>\n",
       "      <td>1503619864</td>\n",
       "    </tr>\n",
       "    <tr>\n",
       "      <th>2</th>\n",
       "      <td>001b6d7c-97ad-4ff8-9475-37a8fc1f7582</td>\n",
       "      <td>2017-06-29 15:26:44</td>\n",
       "      <td>1</td>\n",
       "      <td>2</td>\n",
       "      <td>1498750004</td>\n",
       "    </tr>\n",
       "    <tr>\n",
       "      <th>3</th>\n",
       "      <td>001b6d7c-97ad-4ff8-9475-37a8fc1f7582</td>\n",
       "      <td>2017-06-29 21:48:18</td>\n",
       "      <td>1</td>\n",
       "      <td>2</td>\n",
       "      <td>1498772898</td>\n",
       "    </tr>\n",
       "    <tr>\n",
       "      <th>4</th>\n",
       "      <td>002b7e10-62d1-11e8-b155-00155d967307</td>\n",
       "      <td>2018-05-29 16:59:33</td>\n",
       "      <td>1</td>\n",
       "      <td>2</td>\n",
       "      <td>1527613173</td>\n",
       "    </tr>\n",
       "    <tr>\n",
       "      <th>5</th>\n",
       "      <td>002b7e10-62d1-11e8-b155-00155d967307</td>\n",
       "      <td>2018-05-29 16:59:33</td>\n",
       "      <td>1</td>\n",
       "      <td>2</td>\n",
       "      <td>1527613173</td>\n",
       "    </tr>\n",
       "    <tr>\n",
       "      <th>6</th>\n",
       "      <td>004926e1-4e90-4409-9aca-e5a47f4eeddf</td>\n",
       "      <td>2013-03-05 12:41:05</td>\n",
       "      <td>3</td>\n",
       "      <td>2</td>\n",
       "      <td>1362487265</td>\n",
       "    </tr>\n",
       "    <tr>\n",
       "      <th>7</th>\n",
       "      <td>004926e1-4e90-4409-9aca-e5a47f4eeddf</td>\n",
       "      <td>2016-12-15 23:04:48</td>\n",
       "      <td>3</td>\n",
       "      <td>2</td>\n",
       "      <td>1481843088</td>\n",
       "    </tr>\n",
       "    <tr>\n",
       "      <th>8</th>\n",
       "      <td>00713ebb-6e9f-4a0c-be22-a70e891e1e6c</td>\n",
       "      <td>2010-05-06 00:00:00</td>\n",
       "      <td>1</td>\n",
       "      <td>2</td>\n",
       "      <td>1273104000</td>\n",
       "    </tr>\n",
       "    <tr>\n",
       "      <th>9</th>\n",
       "      <td>00713ebb-6e9f-4a0c-be22-a70e891e1e6c</td>\n",
       "      <td>2014-10-30 17:02:10</td>\n",
       "      <td>1</td>\n",
       "      <td>2</td>\n",
       "      <td>1414688530</td>\n",
       "    </tr>\n",
       "  </tbody>\n",
       "</table>\n",
       "</div>"
      ],
      "text/plain": [
       "                                     id               Fecha Producto  \\\n",
       "0  000f58b7-a684-44c9-94c9-3437627f90f1 2015-07-21 00:00:00        1   \n",
       "1  000f58b7-a684-44c9-94c9-3437627f90f1 2017-08-25 00:11:04        1   \n",
       "2  001b6d7c-97ad-4ff8-9475-37a8fc1f7582 2017-06-29 15:26:44        1   \n",
       "3  001b6d7c-97ad-4ff8-9475-37a8fc1f7582 2017-06-29 21:48:18        1   \n",
       "4  002b7e10-62d1-11e8-b155-00155d967307 2018-05-29 16:59:33        1   \n",
       "5  002b7e10-62d1-11e8-b155-00155d967307 2018-05-29 16:59:33        1   \n",
       "6  004926e1-4e90-4409-9aca-e5a47f4eeddf 2013-03-05 12:41:05        3   \n",
       "7  004926e1-4e90-4409-9aca-e5a47f4eeddf 2016-12-15 23:04:48        3   \n",
       "8  00713ebb-6e9f-4a0c-be22-a70e891e1e6c 2010-05-06 00:00:00        1   \n",
       "9  00713ebb-6e9f-4a0c-be22-a70e891e1e6c 2014-10-30 17:02:10        1   \n",
       "\n",
       "   Frecuencia          ts  \n",
       "0           2  1437436800  \n",
       "1           2  1503619864  \n",
       "2           2  1498750004  \n",
       "3           2  1498772898  \n",
       "4           2  1527613173  \n",
       "5           2  1527613173  \n",
       "6           2  1362487265  \n",
       "7           2  1481843088  \n",
       "8           2  1273104000  \n",
       "9           2  1414688530  "
      ]
     },
     "execution_count": 557,
     "metadata": {},
     "output_type": "execute_result"
    }
   ],
   "source": [
    "df4=df4.sort_values(by=['id','ts'],ascending=True)\n",
    "df4= df4.reset_index(drop=True)\n",
    "print(df4.shape)\n",
    "df4.head(10)"
   ]
  },
  {
   "cell_type": "code",
   "execution_count": 558,
   "metadata": {},
   "outputs": [
    {
     "name": "stdout",
     "output_type": "stream",
     "text": [
      "El numero de filas de este dataset es de:3214\n",
      "(3214, 3)\n"
     ]
    },
    {
     "data": {
      "text/html": [
       "<div>\n",
       "<style scoped>\n",
       "    .dataframe tbody tr th:only-of-type {\n",
       "        vertical-align: middle;\n",
       "    }\n",
       "\n",
       "    .dataframe tbody tr th {\n",
       "        vertical-align: top;\n",
       "    }\n",
       "\n",
       "    .dataframe thead th {\n",
       "        text-align: right;\n",
       "    }\n",
       "</style>\n",
       "<table border=\"1\" class=\"dataframe\">\n",
       "  <thead>\n",
       "    <tr style=\"text-align: right;\">\n",
       "      <th></th>\n",
       "      <th>id</th>\n",
       "      <th>Fecha1</th>\n",
       "      <th>Fecha2</th>\n",
       "    </tr>\n",
       "  </thead>\n",
       "  <tbody>\n",
       "    <tr>\n",
       "      <th>0</th>\n",
       "      <td>000f58b7-a684-44c9-94c9-3437627f90f1</td>\n",
       "      <td>1437436800</td>\n",
       "      <td>1503619864</td>\n",
       "    </tr>\n",
       "    <tr>\n",
       "      <th>1</th>\n",
       "      <td>001b6d7c-97ad-4ff8-9475-37a8fc1f7582</td>\n",
       "      <td>1498750004</td>\n",
       "      <td>1498772898</td>\n",
       "    </tr>\n",
       "    <tr>\n",
       "      <th>2</th>\n",
       "      <td>002b7e10-62d1-11e8-b155-00155d967307</td>\n",
       "      <td>1527613173</td>\n",
       "      <td>1527613173</td>\n",
       "    </tr>\n",
       "    <tr>\n",
       "      <th>3</th>\n",
       "      <td>004926e1-4e90-4409-9aca-e5a47f4eeddf</td>\n",
       "      <td>1362487265</td>\n",
       "      <td>1481843088</td>\n",
       "    </tr>\n",
       "    <tr>\n",
       "      <th>4</th>\n",
       "      <td>00713ebb-6e9f-4a0c-be22-a70e891e1e6c</td>\n",
       "      <td>1273104000</td>\n",
       "      <td>1414688530</td>\n",
       "    </tr>\n",
       "    <tr>\n",
       "      <th>5</th>\n",
       "      <td>00ab3c06-fd56-4865-94e5-9bef9bd95ae7</td>\n",
       "      <td>1392810741</td>\n",
       "      <td>1392988592</td>\n",
       "    </tr>\n",
       "    <tr>\n",
       "      <th>6</th>\n",
       "      <td>00b8d522-0759-4458-85d7-364c5e8ebac1</td>\n",
       "      <td>1404172800</td>\n",
       "      <td>1446744355</td>\n",
       "    </tr>\n",
       "    <tr>\n",
       "      <th>7</th>\n",
       "      <td>00cb5a10-9b38-446d-bb71-a46c00c8845f</td>\n",
       "      <td>1462283775</td>\n",
       "      <td>1464361361</td>\n",
       "    </tr>\n",
       "    <tr>\n",
       "      <th>8</th>\n",
       "      <td>00d8e5fa-426a-11e8-89ad-00155d967307</td>\n",
       "      <td>1523988404</td>\n",
       "      <td>1527520129</td>\n",
       "    </tr>\n",
       "    <tr>\n",
       "      <th>9</th>\n",
       "      <td>01289ec3-163a-4bab-a30d-4d68b3b95a44</td>\n",
       "      <td>1393804800</td>\n",
       "      <td>1432166400</td>\n",
       "    </tr>\n",
       "  </tbody>\n",
       "</table>\n",
       "</div>"
      ],
      "text/plain": [
       "                                     id      Fecha1      Fecha2\n",
       "0  000f58b7-a684-44c9-94c9-3437627f90f1  1437436800  1503619864\n",
       "1  001b6d7c-97ad-4ff8-9475-37a8fc1f7582  1498750004  1498772898\n",
       "2  002b7e10-62d1-11e8-b155-00155d967307  1527613173  1527613173\n",
       "3  004926e1-4e90-4409-9aca-e5a47f4eeddf  1362487265  1481843088\n",
       "4  00713ebb-6e9f-4a0c-be22-a70e891e1e6c  1273104000  1414688530\n",
       "5  00ab3c06-fd56-4865-94e5-9bef9bd95ae7  1392810741  1392988592\n",
       "6  00b8d522-0759-4458-85d7-364c5e8ebac1  1404172800  1446744355\n",
       "7  00cb5a10-9b38-446d-bb71-a46c00c8845f  1462283775  1464361361\n",
       "8  00d8e5fa-426a-11e8-89ad-00155d967307  1523988404  1527520129\n",
       "9  01289ec3-163a-4bab-a30d-4d68b3b95a44  1393804800  1432166400"
      ]
     },
     "execution_count": 558,
     "metadata": {},
     "output_type": "execute_result"
    }
   ],
   "source": [
    "#obj={'id':[],'Fecha1':[],'Fecha2':[],'Producto1':[],'Producto2':[]}\n",
    "obj={'id':[],'Fecha1':[],'Fecha2':[]}\n",
    "filas=0\n",
    "temp='xxx'\n",
    "\n",
    "for index,row in df4.iterrows():\n",
    "    if(row['id']==temp):\n",
    "        obj['Fecha'+str(x)].append(row['ts'])\n",
    "        #obj['Producto2'].append(row['Producto'])\n",
    "        x=x+1\n",
    "        filas=filas+1\n",
    "        continue\n",
    "        \n",
    "    temp=row['id']\n",
    "    \n",
    "    obj['id'].append(row['id'])\n",
    "    #obj['Producto1'].append(row['Producto'])\n",
    "    obj['Fecha1'].append(row['ts'])\n",
    "    x=2\n",
    "\n",
    "print('El numero de filas de este dataset es de:'+str(filas))\n",
    "\n",
    "df5=pd.DataFrame(obj) \n",
    "print(df5.shape)\n",
    "df5.head(10)"
   ]
  },
  {
   "cell_type": "code",
   "execution_count": 559,
   "metadata": {},
   "outputs": [],
   "source": [
    "#df5[df5['Producto1']!=df5['Producto2']]"
   ]
  },
  {
   "cell_type": "markdown",
   "metadata": {},
   "source": [
    "## Se comienza el modelo"
   ]
  },
  {
   "cell_type": "code",
   "execution_count": 560,
   "metadata": {},
   "outputs": [],
   "source": [
    "y_header='Fecha2'\n",
    "drop_col=['id',y_header]\n",
    "Y=df5[y_header]\n",
    "X=df5.drop(drop_col,axis=1)\n",
    "#X.head()"
   ]
  },
  {
   "cell_type": "code",
   "execution_count": 561,
   "metadata": {},
   "outputs": [],
   "source": [
    "from sklearn.model_selection import train_test_split\n",
    "\n",
    "X_train,X_test,Y_train,Y_test=train_test_split(X,Y,test_size=.2)"
   ]
  },
  {
   "cell_type": "code",
   "execution_count": 562,
   "metadata": {},
   "outputs": [],
   "source": [
    "from math import sqrt\n",
    "from sklearn.metrics import mean_squared_error "
   ]
  },
  {
   "cell_type": "markdown",
   "metadata": {},
   "source": [
    "## Regresion Lineal"
   ]
  },
  {
   "cell_type": "code",
   "execution_count": 563,
   "metadata": {},
   "outputs": [],
   "source": [
    "from sklearn.linear_model import LinearRegression\n",
    "\n",
    "lr=LinearRegression()\n",
    "\n",
    "lr.fit(X_train,Y_train)\n",
    "\n",
    "scorel=lr.score(X_test,Y_test)\n",
    "\n",
    "predictl=lr.predict(X_test)\n",
    "\n",
    "errorl = sqrt(mean_squared_error(Y_test,predictl))"
   ]
  },
  {
   "cell_type": "markdown",
   "metadata": {},
   "source": [
    "## Random Forest"
   ]
  },
  {
   "cell_type": "markdown",
   "metadata": {},
   "source": [
    "%%time\n",
    "\n",
    "from sklearn.ensemble import RandomForestRegressor\n",
    "\n",
    "forest=RandomForestRegressor(n_jobs=2, n_estimators=40)\n",
    "\n",
    "forest.fit(X_train,Y_train)\n",
    "\n",
    "scoref=forest.score(X_test,Y_test)\n",
    "\n",
    "predictf=forest.predict(X_test)\n",
    "\n",
    "errorf = sqrt(mean_squared_error(Y_test,predictf))"
   ]
  },
  {
   "cell_type": "markdown",
   "metadata": {},
   "source": [
    "## SVM"
   ]
  },
  {
   "cell_type": "markdown",
   "metadata": {},
   "source": [
    "%%time\n",
    "\n",
    "from sklearn.svm import SVR\n",
    "from sklearn.svm import SVC\n",
    "\n",
    "C=1e3 \n",
    "svc_rbf = SVR(kernel=\"rbf\", C=C, gamma=0.1) #kernel radial\n",
    "\n",
    "model= svc_rbf.fit(X_train,Y_train)\n",
    "\n",
    "scores=model.score(X_test,Y_test)\n",
    "\n",
    "predicts=model.predict(X_test)\n",
    "\n",
    "errors = sqrt(mean_squared_error(Y_test,predicts))"
   ]
  },
  {
   "cell_type": "markdown",
   "metadata": {},
   "source": [
    "## KNN"
   ]
  },
  {
   "cell_type": "code",
   "execution_count": 564,
   "metadata": {},
   "outputs": [
    {
     "name": "stdout",
     "output_type": "stream",
     "text": [
      "CPU times: user 128 ms, sys: 12.2 ms, total: 140 ms\n",
      "Wall time: 204 ms\n"
     ]
    }
   ],
   "source": [
    "%%time\n",
    "\n",
    "from sklearn.neighbors import KNeighborsRegressor\n",
    "\n",
    "knn = KNeighborsRegressor(n_jobs=2,n_neighbors =20)\n",
    "\n",
    "knn.fit(X_train, Y_train)\n",
    "\n",
    "scorek=knn.score(X_test,Y_test)\n",
    "\n",
    "predictknn=knn.predict(X_test)\n",
    "\n",
    "errork = sqrt(mean_squared_error(Y_test,predictknn))\n",
    "\n",
    "#predictknn2=knn.predict_proba(X_test)"
   ]
  },
  {
   "cell_type": "markdown",
   "metadata": {},
   "source": [
    "## Conclusion"
   ]
  },
  {
   "cell_type": "code",
   "execution_count": 565,
   "metadata": {},
   "outputs": [
    {
     "name": "stdout",
     "output_type": "stream",
     "text": [
      ">> LR.... <<\n",
      "Score 0.7408272177277959\n",
      "Error 41687651.03975593\n",
      "[(1497253610.1159387, 1489711738), (1491316583.179412, 1481213177), (1505613541.5031962, 1502320366), (1482176805.8308558, 1503936106), (1350350054.8535967, 1294272000)]\n",
      ">> KNN.... <<\n",
      "Score 0.7245631729019608\n",
      "Error 42975776.529958606\n",
      "[(1503399817.7, 1489711738), (1490075843.8, 1481213177), (1509427972.4, 1502320366), (1487313420.3, 1503936106), (1329806907.5, 1294272000)]\n"
     ]
    }
   ],
   "source": [
    "#----------------------------\n",
    "\n",
    "print('>> LR.... <<')\n",
    "print('Score',scorel)\n",
    "print('Error',errorl)\n",
    "print(list(zip(predictl, Y_test))[:5])\n",
    "\n",
    "#----------------------------\n",
    "\n",
    "#print('>> Forest.... <<')\n",
    "#print('Score',scoref)\n",
    "#print('Error',errorf)\n",
    "#print(list(zip(predictf, Y_test))[:5])\n",
    "#----------------------------\n",
    "\n",
    "#print('>> SVR.... <<')\n",
    "#print('Score',scores)\n",
    "#print('Error',errors)\n",
    "#print(list(zip(predicts, Y_test))[:5])\n",
    "\n",
    "#----------------------------\n",
    "\n",
    "print('>> KNN.... <<')\n",
    "print('Score',scorek)\n",
    "print('Error',errork)\n",
    "print(list(zip(predictknn, Y_test))[:5])\n",
    "  "
   ]
  },
  {
   "cell_type": "code",
   "execution_count": 566,
   "metadata": {},
   "outputs": [
    {
     "data": {
      "text/html": [
       "<div>\n",
       "<style scoped>\n",
       "    .dataframe tbody tr th:only-of-type {\n",
       "        vertical-align: middle;\n",
       "    }\n",
       "\n",
       "    .dataframe tbody tr th {\n",
       "        vertical-align: top;\n",
       "    }\n",
       "\n",
       "    .dataframe thead th {\n",
       "        text-align: right;\n",
       "    }\n",
       "</style>\n",
       "<table border=\"1\" class=\"dataframe\">\n",
       "  <thead>\n",
       "    <tr style=\"text-align: right;\">\n",
       "      <th></th>\n",
       "      <th>Y_test</th>\n",
       "      <th>Predict</th>\n",
       "    </tr>\n",
       "  </thead>\n",
       "  <tbody>\n",
       "    <tr>\n",
       "      <th>1011</th>\n",
       "      <td>2017-03-17 00:48:58</td>\n",
       "      <td>2017-08-22 11:03:37.700000048</td>\n",
       "    </tr>\n",
       "    <tr>\n",
       "      <th>447</th>\n",
       "      <td>2016-12-08 16:06:17</td>\n",
       "      <td>2017-03-21 05:57:23.799999952</td>\n",
       "    </tr>\n",
       "    <tr>\n",
       "      <th>908</th>\n",
       "      <td>2017-08-09 23:12:46</td>\n",
       "      <td>2017-10-31 05:32:52.400000095</td>\n",
       "    </tr>\n",
       "    <tr>\n",
       "      <th>809</th>\n",
       "      <td>2017-08-28 16:01:46</td>\n",
       "      <td>2017-02-17 06:37:00.299999952</td>\n",
       "    </tr>\n",
       "    <tr>\n",
       "      <th>1897</th>\n",
       "      <td>2011-01-06 00:00:00</td>\n",
       "      <td>2012-02-21 06:48:27.500000000</td>\n",
       "    </tr>\n",
       "    <tr>\n",
       "      <th>2734</th>\n",
       "      <td>2013-04-18 09:15:18</td>\n",
       "      <td>2014-09-04 12:51:10.250000000</td>\n",
       "    </tr>\n",
       "    <tr>\n",
       "      <th>3032</th>\n",
       "      <td>2015-02-05 19:30:58</td>\n",
       "      <td>2012-11-02 00:13:19.299999952</td>\n",
       "    </tr>\n",
       "    <tr>\n",
       "      <th>401</th>\n",
       "      <td>2018-03-13 00:02:35</td>\n",
       "      <td>2016-09-04 11:06:17.650000095</td>\n",
       "    </tr>\n",
       "    <tr>\n",
       "      <th>1743</th>\n",
       "      <td>2011-03-18 00:00:00</td>\n",
       "      <td>2012-08-16 10:00:42.099999905</td>\n",
       "    </tr>\n",
       "    <tr>\n",
       "      <th>1590</th>\n",
       "      <td>2015-08-20 17:55:32</td>\n",
       "      <td>2015-06-01 12:57:50.150000095</td>\n",
       "    </tr>\n",
       "  </tbody>\n",
       "</table>\n",
       "</div>"
      ],
      "text/plain": [
       "                  Y_test                       Predict\n",
       "1011 2017-03-17 00:48:58 2017-08-22 11:03:37.700000048\n",
       "447  2016-12-08 16:06:17 2017-03-21 05:57:23.799999952\n",
       "908  2017-08-09 23:12:46 2017-10-31 05:32:52.400000095\n",
       "809  2017-08-28 16:01:46 2017-02-17 06:37:00.299999952\n",
       "1897 2011-01-06 00:00:00 2012-02-21 06:48:27.500000000\n",
       "2734 2013-04-18 09:15:18 2014-09-04 12:51:10.250000000\n",
       "3032 2015-02-05 19:30:58 2012-11-02 00:13:19.299999952\n",
       "401  2018-03-13 00:02:35 2016-09-04 11:06:17.650000095\n",
       "1743 2011-03-18 00:00:00 2012-08-16 10:00:42.099999905\n",
       "1590 2015-08-20 17:55:32 2015-06-01 12:57:50.150000095"
      ]
     },
     "execution_count": 566,
     "metadata": {},
     "output_type": "execute_result"
    }
   ],
   "source": [
    "df={}\n",
    "df=pd.DataFrame(df)\n",
    "\n",
    "#df['Fecha1']=X_test['Fecha1']\n",
    "df['Y_test']=Y_test\n",
    "df['Predict']=predictknn\n",
    "\n",
    "#df['Fecha1']=pd.to_datetime(df['Fecha1'], unit='s')\n",
    "df['Y_test']=pd.to_datetime(df['Y_test'], unit='s')\n",
    "df['Predict']=pd.to_datetime(df['Predict'], unit='s')\n",
    "df.head(10)"
   ]
  },
  {
   "cell_type": "markdown",
   "metadata": {},
   "source": [
    "## Guardar Modelo"
   ]
  },
  {
   "cell_type": "code",
   "execution_count": 254,
   "metadata": {},
   "outputs": [],
   "source": [
    "import pickle\n",
    "\n",
    "filename = 'agenda3_knn_1var.sav'\n",
    "pickle.dump(lr, open(filename, 'wb'))"
   ]
  },
  {
   "cell_type": "markdown",
   "metadata": {},
   "source": [
    "## Cargar Modelo"
   ]
  },
  {
   "cell_type": "code",
   "execution_count": 567,
   "metadata": {},
   "outputs": [
    {
     "name": "stdout",
     "output_type": "stream",
     "text": [
      "Score 0.7528945521902535\n",
      "Error 40705574.57565972\n",
      "[(1501146941.65, 1489711738), (1486135724.55, 1481213177), (1505532971.55, 1502320366), (1488977574.65, 1503936106), (1329700428.3, 1294272000)]\n"
     ]
    }
   ],
   "source": [
    "import pickle\n",
    "\n",
    "filename = 'agenda1_knn_1var.sav'\n",
    "#filename = 'agenda2_lr_1var.sav'\n",
    "\n",
    "model = pickle.load(open(filename, 'rb'))\n",
    "\n",
    "score=model.score(X_test,Y_test)\n",
    "\n",
    "predict=model.predict(X_test)\n",
    "\n",
    "error = sqrt(mean_squared_error(Y_test,predict))\n",
    "\n",
    "\n",
    "print('Score',score)\n",
    "print('Error',error)\n",
    "print(list(zip(predict, Y_test))[:5])"
   ]
  },
  {
   "cell_type": "code",
   "execution_count": 568,
   "metadata": {},
   "outputs": [
    {
     "data": {
      "text/html": [
       "<div>\n",
       "<style scoped>\n",
       "    .dataframe tbody tr th:only-of-type {\n",
       "        vertical-align: middle;\n",
       "    }\n",
       "\n",
       "    .dataframe tbody tr th {\n",
       "        vertical-align: top;\n",
       "    }\n",
       "\n",
       "    .dataframe thead th {\n",
       "        text-align: right;\n",
       "    }\n",
       "</style>\n",
       "<table border=\"1\" class=\"dataframe\">\n",
       "  <thead>\n",
       "    <tr style=\"text-align: right;\">\n",
       "      <th></th>\n",
       "      <th>Y_test</th>\n",
       "      <th>Predict</th>\n",
       "    </tr>\n",
       "  </thead>\n",
       "  <tbody>\n",
       "    <tr>\n",
       "      <th>1011</th>\n",
       "      <td>2017-03-17 00:48:58</td>\n",
       "      <td>2017-07-27 09:15:41.650000095</td>\n",
       "    </tr>\n",
       "    <tr>\n",
       "      <th>447</th>\n",
       "      <td>2016-12-08 16:06:17</td>\n",
       "      <td>2017-02-03 15:28:44.549999952</td>\n",
       "    </tr>\n",
       "    <tr>\n",
       "      <th>908</th>\n",
       "      <td>2017-08-09 23:12:46</td>\n",
       "      <td>2017-09-16 03:36:11.549999952</td>\n",
       "    </tr>\n",
       "    <tr>\n",
       "      <th>809</th>\n",
       "      <td>2017-08-28 16:01:46</td>\n",
       "      <td>2017-03-08 12:52:54.650000095</td>\n",
       "    </tr>\n",
       "    <tr>\n",
       "      <th>1897</th>\n",
       "      <td>2011-01-06 00:00:00</td>\n",
       "      <td>2012-02-20 01:13:48.299999952</td>\n",
       "    </tr>\n",
       "    <tr>\n",
       "      <th>2734</th>\n",
       "      <td>2013-04-18 09:15:18</td>\n",
       "      <td>2014-06-30 17:22:17.500000000</td>\n",
       "    </tr>\n",
       "    <tr>\n",
       "      <th>3032</th>\n",
       "      <td>2015-02-05 19:30:58</td>\n",
       "      <td>2012-09-24 21:04:53.450000048</td>\n",
       "    </tr>\n",
       "    <tr>\n",
       "      <th>401</th>\n",
       "      <td>2018-03-13 00:02:35</td>\n",
       "      <td>2016-08-03 12:30:59.950000048</td>\n",
       "    </tr>\n",
       "    <tr>\n",
       "      <th>1743</th>\n",
       "      <td>2011-03-18 00:00:00</td>\n",
       "      <td>2012-08-02 13:36:42.099999905</td>\n",
       "    </tr>\n",
       "    <tr>\n",
       "      <th>1590</th>\n",
       "      <td>2015-08-20 17:55:32</td>\n",
       "      <td>2015-08-05 11:28:59.299999952</td>\n",
       "    </tr>\n",
       "  </tbody>\n",
       "</table>\n",
       "</div>"
      ],
      "text/plain": [
       "                  Y_test                       Predict\n",
       "1011 2017-03-17 00:48:58 2017-07-27 09:15:41.650000095\n",
       "447  2016-12-08 16:06:17 2017-02-03 15:28:44.549999952\n",
       "908  2017-08-09 23:12:46 2017-09-16 03:36:11.549999952\n",
       "809  2017-08-28 16:01:46 2017-03-08 12:52:54.650000095\n",
       "1897 2011-01-06 00:00:00 2012-02-20 01:13:48.299999952\n",
       "2734 2013-04-18 09:15:18 2014-06-30 17:22:17.500000000\n",
       "3032 2015-02-05 19:30:58 2012-09-24 21:04:53.450000048\n",
       "401  2018-03-13 00:02:35 2016-08-03 12:30:59.950000048\n",
       "1743 2011-03-18 00:00:00 2012-08-02 13:36:42.099999905\n",
       "1590 2015-08-20 17:55:32 2015-08-05 11:28:59.299999952"
      ]
     },
     "execution_count": 568,
     "metadata": {},
     "output_type": "execute_result"
    }
   ],
   "source": [
    "dfx={}\n",
    "dfx=pd.DataFrame(dfx)\n",
    "\n",
    "#df['Fecha1']=X_test['Fecha1']\n",
    "dfx['Y_test']=Y_test\n",
    "dfx['Predict']=predict\n",
    "\n",
    "#df['Fecha1']=pd.to_datetime(df['Fecha1'], unit='s')\n",
    "dfx['Y_test']=pd.to_datetime(dfx['Y_test'], unit='s')\n",
    "dfx['Predict']=pd.to_datetime(dfx['Predict'], unit='s')\n",
    "dfx.head(10)"
   ]
  }
 ],
 "metadata": {
  "kernelspec": {
   "display_name": "Python 3",
   "language": "python",
   "name": "python3"
  },
  "language_info": {
   "codemirror_mode": {
    "name": "ipython",
    "version": 3
   },
   "file_extension": ".py",
   "mimetype": "text/x-python",
   "name": "python",
   "nbconvert_exporter": "python",
   "pygments_lexer": "ipython3",
   "version": "3.7.2"
  }
 },
 "nbformat": 4,
 "nbformat_minor": 2
}
